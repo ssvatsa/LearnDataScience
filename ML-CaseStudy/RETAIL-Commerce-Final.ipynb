{
 "cells": [
  {
   "cell_type": "markdown",
   "id": "b2af7926",
   "metadata": {},
   "source": [
    "### RETAIL E-COMMERCE\n",
    "\n",
    "#### Group Activity  - December 2022\n",
    "\n",
    "##### DSC43 - Srivatsa / kiran sai  / MOHAMMED TAHER"
   ]
  },
  {
   "cell_type": "markdown",
   "id": "c7722ea8",
   "metadata": {},
   "source": [
    "### PROBLEM STATEMENT\n",
    "\n",
    "###### Schuster would like to better understand the customers’ payment behaviour based on their past payment patterns (customer segmentation).\n",
    "\n",
    "###### Using historical information, it wants to be able to predict the likelihood of delayed payment against open invoices from its customers.\n",
    "\n",
    "##### It wants to use this information so that collectors can prioritise their work in following up with customers beforehand to get the payments on time.\n"
   ]
  },
  {
   "cell_type": "code",
   "execution_count": 1,
   "id": "cfe64969",
   "metadata": {},
   "outputs": [],
   "source": [
    "import pandas as pd\n",
    "import numpy as np\n",
    "import matplotlib.pyplot as plt\n",
    "import seaborn as sns \n",
    "\n",
    "import sklearn\n",
    "from sklearn.preprocessing import StandardScaler\n",
    "from sklearn.preprocessing import MinMaxScaler\n",
    "from sklearn.cluster import KMeans\n",
    "from sklearn.metrics import silhouette_score\n",
    "\n",
    "%matplotlib inline"
   ]
  },
  {
   "cell_type": "code",
   "execution_count": 2,
   "id": "405df561",
   "metadata": {},
   "outputs": [],
   "source": [
    "# Supress Warnings\n",
    "import warnings\n",
    "warnings.filterwarnings('ignore')\n",
    "pd.set_option('display.float_format', lambda x: '%.0f' % x)"
   ]
  },
  {
   "cell_type": "markdown",
   "id": "78a281f1",
   "metadata": {},
   "source": []
  },
  {
   "cell_type": "markdown",
   "id": "715a89fb",
   "metadata": {},
   "source": []
  },
  {
   "cell_type": "markdown",
   "id": "aeb835a5",
   "metadata": {},
   "source": [
    "### UNDERSTAND DATA"
   ]
  },
  {
   "cell_type": "markdown",
   "id": "5591df65",
   "metadata": {},
   "source": [
    "###### We will need to do the prediction on Open Invoices Data \n",
    "So let us identify the relevent set of Columns present in Received_Payments  "
   ]
  },
  {
   "cell_type": "code",
   "execution_count": 3,
   "id": "a2b34595",
   "metadata": {},
   "outputs": [],
   "source": [
    "### Read Data to Frame \n",
    "reData = pd.read_csv(\"Received_Payments_Data.csv\")\n",
    "####invData = pd.read_csv(\"open_invoice_data2.csv\" , encoding = \"ISO-8859-1\")"
   ]
  },
  {
   "cell_type": "code",
   "execution_count": 4,
   "id": "d2d56fdc",
   "metadata": {},
   "outputs": [
    {
     "name": "stdout",
     "output_type": "stream",
     "text": [
      "<class 'pandas.core.frame.DataFrame'>\n",
      "RangeIndex: 93937 entries, 0 to 93936\n",
      "Data columns (total 16 columns):\n",
      " #   Column                 Non-Null Count  Dtype  \n",
      "---  ------                 --------------  -----  \n",
      " 0   RECEIPT_METHOD         93937 non-null  object \n",
      " 1   CUSTOMER_NAME          93937 non-null  object \n",
      " 2   CUSTOMER_NUMBER        93937 non-null  int64  \n",
      " 3   RECEIPT_DOC_NO         93908 non-null  float64\n",
      " 4   RECEIPT_DATE           93937 non-null  object \n",
      " 5   CLASS                  93937 non-null  object \n",
      " 6   CURRENCY_CODE          93937 non-null  object \n",
      " 7   Local Amount           93937 non-null  float64\n",
      " 8   USD Amount             93937 non-null  float64\n",
      " 9   INVOICE_ALLOCATED      93937 non-null  object \n",
      " 10  INVOICE_CREATION_DATE  93937 non-null  object \n",
      " 11  DUE_DATE               93937 non-null  object \n",
      " 12  PAYMENT_TERM           93937 non-null  object \n",
      " 13  INVOICE_CLASS          93937 non-null  object \n",
      " 14  INVOICE_CURRENCY_CODE  93937 non-null  object \n",
      " 15  INVOICE_TYPE           93937 non-null  object \n",
      "dtypes: float64(3), int64(1), object(12)\n",
      "memory usage: 11.5+ MB\n"
     ]
    }
   ],
   "source": [
    "reData.info()"
   ]
  },
  {
   "cell_type": "markdown",
   "id": "07d50977",
   "metadata": {},
   "source": [
    "##### There are Date columns as Object - lets convert them to Date "
   ]
  },
  {
   "cell_type": "code",
   "execution_count": 5,
   "id": "5fb538ea",
   "metadata": {},
   "outputs": [],
   "source": [
    "reData[\"RECEIPT_DATE\"] = pd.to_datetime(reData[\"RECEIPT_DATE\"], format='%d-%b-%y')\n",
    "reData[\"INVOICE_CREATION_DATE\"] = pd.to_datetime(reData[\"INVOICE_CREATION_DATE\"], format='%d-%b-%y')\n",
    "reData[\"DUE_DATE\"] = pd.to_datetime(reData[\"DUE_DATE\"], format='%d-%b-%y')"
   ]
  },
  {
   "cell_type": "code",
   "execution_count": 6,
   "id": "89a65e5d",
   "metadata": {},
   "outputs": [
    {
     "name": "stdout",
     "output_type": "stream",
     "text": [
      "<class 'pandas.core.frame.DataFrame'>\n",
      "RangeIndex: 93937 entries, 0 to 93936\n",
      "Data columns (total 16 columns):\n",
      " #   Column                 Non-Null Count  Dtype         \n",
      "---  ------                 --------------  -----         \n",
      " 0   RECEIPT_METHOD         93937 non-null  object        \n",
      " 1   CUSTOMER_NAME          93937 non-null  object        \n",
      " 2   CUSTOMER_NUMBER        93937 non-null  int64         \n",
      " 3   RECEIPT_DOC_NO         93908 non-null  float64       \n",
      " 4   RECEIPT_DATE           93937 non-null  datetime64[ns]\n",
      " 5   CLASS                  93937 non-null  object        \n",
      " 6   CURRENCY_CODE          93937 non-null  object        \n",
      " 7   Local Amount           93937 non-null  float64       \n",
      " 8   USD Amount             93937 non-null  float64       \n",
      " 9   INVOICE_ALLOCATED      93937 non-null  object        \n",
      " 10  INVOICE_CREATION_DATE  93937 non-null  datetime64[ns]\n",
      " 11  DUE_DATE               93937 non-null  datetime64[ns]\n",
      " 12  PAYMENT_TERM           93937 non-null  object        \n",
      " 13  INVOICE_CLASS          93937 non-null  object        \n",
      " 14  INVOICE_CURRENCY_CODE  93937 non-null  object        \n",
      " 15  INVOICE_TYPE           93937 non-null  object        \n",
      "dtypes: datetime64[ns](3), float64(3), int64(1), object(9)\n",
      "memory usage: 11.5+ MB\n"
     ]
    }
   ],
   "source": [
    "reData.info()"
   ]
  },
  {
   "cell_type": "code",
   "execution_count": 7,
   "id": "b9d95c0e",
   "metadata": {},
   "outputs": [
    {
     "data": {
      "text/plain": [
       "(93937, 10)"
      ]
     },
     "execution_count": 7,
     "metadata": {},
     "output_type": "execute_result"
    }
   ],
   "source": [
    "### Drop Columns with Missing Values (RECEIPT_DOC_NO) and other not Required\n",
    "reData = reData.drop(columns=['RECEIPT_DOC_NO','PAYMENT_TERM','CLASS','RECEIPT_METHOD','Local Amount','INVOICE_ALLOCATED'])\n",
    "reData.shape"
   ]
  },
  {
   "cell_type": "code",
   "execution_count": 8,
   "id": "de45cc7e",
   "metadata": {},
   "outputs": [
    {
     "data": {
      "text/html": [
       "<div>\n",
       "<style scoped>\n",
       "    .dataframe tbody tr th:only-of-type {\n",
       "        vertical-align: middle;\n",
       "    }\n",
       "\n",
       "    .dataframe tbody tr th {\n",
       "        vertical-align: top;\n",
       "    }\n",
       "\n",
       "    .dataframe thead th {\n",
       "        text-align: right;\n",
       "    }\n",
       "</style>\n",
       "<table border=\"1\" class=\"dataframe\">\n",
       "  <thead>\n",
       "    <tr style=\"text-align: right;\">\n",
       "      <th></th>\n",
       "      <th>CUSTOMER_NAME</th>\n",
       "      <th>CUSTOMER_NUMBER</th>\n",
       "      <th>RECEIPT_DATE</th>\n",
       "      <th>CURRENCY_CODE</th>\n",
       "      <th>USD Amount</th>\n",
       "      <th>INVOICE_CREATION_DATE</th>\n",
       "      <th>DUE_DATE</th>\n",
       "      <th>INVOICE_CLASS</th>\n",
       "      <th>INVOICE_CURRENCY_CODE</th>\n",
       "      <th>INVOICE_TYPE</th>\n",
       "    </tr>\n",
       "  </thead>\n",
       "  <tbody>\n",
       "    <tr>\n",
       "      <th>0</th>\n",
       "      <td>C EA Corp</td>\n",
       "      <td>37403</td>\n",
       "      <td>2021-04-20</td>\n",
       "      <td>USD</td>\n",
       "      <td>101019</td>\n",
       "      <td>2020-11-02</td>\n",
       "      <td>2020-12-30</td>\n",
       "      <td>INV</td>\n",
       "      <td>AED</td>\n",
       "      <td>Non Goods</td>\n",
       "    </tr>\n",
       "    <tr>\n",
       "      <th>1</th>\n",
       "      <td>RADW Corp</td>\n",
       "      <td>4003</td>\n",
       "      <td>2021-01-31</td>\n",
       "      <td>SAR</td>\n",
       "      <td>48990</td>\n",
       "      <td>2020-12-29</td>\n",
       "      <td>2021-01-28</td>\n",
       "      <td>INV</td>\n",
       "      <td>SAR</td>\n",
       "      <td>Non Goods</td>\n",
       "    </tr>\n",
       "    <tr>\n",
       "      <th>2</th>\n",
       "      <td>RADW Corp</td>\n",
       "      <td>4003</td>\n",
       "      <td>2021-01-31</td>\n",
       "      <td>SAR</td>\n",
       "      <td>41992</td>\n",
       "      <td>2021-01-30</td>\n",
       "      <td>2021-03-01</td>\n",
       "      <td>INV</td>\n",
       "      <td>SAR</td>\n",
       "      <td>Non Goods</td>\n",
       "    </tr>\n",
       "    <tr>\n",
       "      <th>3</th>\n",
       "      <td>FARO Corp</td>\n",
       "      <td>1409</td>\n",
       "      <td>2021-01-31</td>\n",
       "      <td>SAR</td>\n",
       "      <td>41992</td>\n",
       "      <td>2020-12-15</td>\n",
       "      <td>2021-01-14</td>\n",
       "      <td>INV</td>\n",
       "      <td>SAR</td>\n",
       "      <td>Non Goods</td>\n",
       "    </tr>\n",
       "    <tr>\n",
       "      <th>4</th>\n",
       "      <td>RADW Corp</td>\n",
       "      <td>4003</td>\n",
       "      <td>2021-01-31</td>\n",
       "      <td>SAR</td>\n",
       "      <td>41992</td>\n",
       "      <td>2020-12-15</td>\n",
       "      <td>2021-01-14</td>\n",
       "      <td>INV</td>\n",
       "      <td>SAR</td>\n",
       "      <td>Non Goods</td>\n",
       "    </tr>\n",
       "  </tbody>\n",
       "</table>\n",
       "</div>"
      ],
      "text/plain": [
       "  CUSTOMER_NAME  CUSTOMER_NUMBER RECEIPT_DATE CURRENCY_CODE  USD Amount  \\\n",
       "0     C EA Corp            37403   2021-04-20           USD      101019   \n",
       "1     RADW Corp             4003   2021-01-31           SAR       48990   \n",
       "2     RADW Corp             4003   2021-01-31           SAR       41992   \n",
       "3     FARO Corp             1409   2021-01-31           SAR       41992   \n",
       "4     RADW Corp             4003   2021-01-31           SAR       41992   \n",
       "\n",
       "  INVOICE_CREATION_DATE   DUE_DATE INVOICE_CLASS INVOICE_CURRENCY_CODE  \\\n",
       "0            2020-11-02 2020-12-30           INV                   AED   \n",
       "1            2020-12-29 2021-01-28           INV                   SAR   \n",
       "2            2021-01-30 2021-03-01           INV                   SAR   \n",
       "3            2020-12-15 2021-01-14           INV                   SAR   \n",
       "4            2020-12-15 2021-01-14           INV                   SAR   \n",
       "\n",
       "  INVOICE_TYPE  \n",
       "0    Non Goods  \n",
       "1    Non Goods  \n",
       "2    Non Goods  \n",
       "3    Non Goods  \n",
       "4    Non Goods  "
      ]
     },
     "execution_count": 8,
     "metadata": {},
     "output_type": "execute_result"
    }
   ],
   "source": [
    "reData.head()"
   ]
  },
  {
   "cell_type": "code",
   "execution_count": 9,
   "id": "e90eec67",
   "metadata": {},
   "outputs": [
    {
     "data": {
      "text/plain": [
       "Goods        66715\n",
       "Non Goods    27222\n",
       "Name: INVOICE_TYPE, dtype: int64"
      ]
     },
     "execution_count": 9,
     "metadata": {},
     "output_type": "execute_result"
    }
   ],
   "source": [
    "reData.INVOICE_TYPE.value_counts()"
   ]
  },
  {
   "cell_type": "code",
   "execution_count": null,
   "id": "cc3b5554",
   "metadata": {},
   "outputs": [],
   "source": []
  },
  {
   "cell_type": "markdown",
   "id": "a26f6bfd",
   "metadata": {},
   "source": [
    "##### Lets Delete the Current PAYMENT_TERM - Which has too many values and Create a New Payment_term based on Days Difference between invoice data and Due date "
   ]
  },
  {
   "cell_type": "code",
   "execution_count": 10,
   "id": "7ba798c5",
   "metadata": {},
   "outputs": [],
   "source": [
    "reData[\"PAY_TERM\"] = (reData[\"DUE_DATE\"] - reData[\"INVOICE_CREATION_DATE\"]).dt.days"
   ]
  },
  {
   "cell_type": "code",
   "execution_count": null,
   "id": "b5b6fb40",
   "metadata": {},
   "outputs": [],
   "source": []
  },
  {
   "cell_type": "markdown",
   "id": "128047c7",
   "metadata": {},
   "source": [
    "#### Target Variable is to be determined - based on if Receipt Date is < Due Date"
   ]
  },
  {
   "cell_type": "code",
   "execution_count": 11,
   "id": "703aabb2",
   "metadata": {},
   "outputs": [],
   "source": [
    "## Function to Return 0 or 1 \n",
    "def isDelayed(RD , DD) :\n",
    "    if (RD > DD):\n",
    "        return 1 \n",
    "    else:\n",
    "        return 0\n"
   ]
  },
  {
   "cell_type": "code",
   "execution_count": 12,
   "id": "a9c112e8",
   "metadata": {},
   "outputs": [],
   "source": [
    "reData[\"DELAYED\"] = reData.apply(lambda x: isDelayed( x['RECEIPT_DATE'], x['DUE_DATE'] ), axis=1)"
   ]
  },
  {
   "cell_type": "code",
   "execution_count": 13,
   "id": "0779649e",
   "metadata": {},
   "outputs": [],
   "source": [
    "## DAYS BETWEEN INVOiCE CREATION AND ACTUAL PAYMENT -- USED For Customer Segmentation\n",
    "reData[\"PAY_DAYS\"] = (reData['RECEIPT_DATE'] - reData['INVOICE_CREATION_DATE']).dt.days"
   ]
  },
  {
   "cell_type": "code",
   "execution_count": null,
   "id": "afa596bb",
   "metadata": {},
   "outputs": [],
   "source": []
  },
  {
   "cell_type": "code",
   "execution_count": 14,
   "id": "07273487",
   "metadata": {},
   "outputs": [],
   "source": [
    "### Rename USD Amount to USD_AMT\n",
    "reData = reData.rename(columns={'USD Amount': 'USD_AMT'}) "
   ]
  },
  {
   "cell_type": "code",
   "execution_count": null,
   "id": "13b78b43",
   "metadata": {},
   "outputs": [],
   "source": []
  },
  {
   "cell_type": "code",
   "execution_count": 15,
   "id": "05216808",
   "metadata": {},
   "outputs": [
    {
     "data": {
      "text/html": [
       "<div>\n",
       "<style scoped>\n",
       "    .dataframe tbody tr th:only-of-type {\n",
       "        vertical-align: middle;\n",
       "    }\n",
       "\n",
       "    .dataframe tbody tr th {\n",
       "        vertical-align: top;\n",
       "    }\n",
       "\n",
       "    .dataframe thead th {\n",
       "        text-align: right;\n",
       "    }\n",
       "</style>\n",
       "<table border=\"1\" class=\"dataframe\">\n",
       "  <thead>\n",
       "    <tr style=\"text-align: right;\">\n",
       "      <th></th>\n",
       "      <th>CUSTOMER_NAME</th>\n",
       "      <th>CUSTOMER_NUMBER</th>\n",
       "      <th>RECEIPT_DATE</th>\n",
       "      <th>CURRENCY_CODE</th>\n",
       "      <th>USD_AMT</th>\n",
       "      <th>INVOICE_CREATION_DATE</th>\n",
       "      <th>DUE_DATE</th>\n",
       "      <th>INVOICE_CLASS</th>\n",
       "      <th>INVOICE_CURRENCY_CODE</th>\n",
       "      <th>INVOICE_TYPE</th>\n",
       "      <th>PAY_TERM</th>\n",
       "      <th>DELAYED</th>\n",
       "      <th>PAY_DAYS</th>\n",
       "    </tr>\n",
       "  </thead>\n",
       "  <tbody>\n",
       "    <tr>\n",
       "      <th>0</th>\n",
       "      <td>C EA Corp</td>\n",
       "      <td>37403</td>\n",
       "      <td>2021-04-20</td>\n",
       "      <td>USD</td>\n",
       "      <td>101019</td>\n",
       "      <td>2020-11-02</td>\n",
       "      <td>2020-12-30</td>\n",
       "      <td>INV</td>\n",
       "      <td>AED</td>\n",
       "      <td>Non Goods</td>\n",
       "      <td>58</td>\n",
       "      <td>1</td>\n",
       "      <td>169</td>\n",
       "    </tr>\n",
       "    <tr>\n",
       "      <th>1</th>\n",
       "      <td>RADW Corp</td>\n",
       "      <td>4003</td>\n",
       "      <td>2021-01-31</td>\n",
       "      <td>SAR</td>\n",
       "      <td>48990</td>\n",
       "      <td>2020-12-29</td>\n",
       "      <td>2021-01-28</td>\n",
       "      <td>INV</td>\n",
       "      <td>SAR</td>\n",
       "      <td>Non Goods</td>\n",
       "      <td>30</td>\n",
       "      <td>1</td>\n",
       "      <td>33</td>\n",
       "    </tr>\n",
       "    <tr>\n",
       "      <th>2</th>\n",
       "      <td>RADW Corp</td>\n",
       "      <td>4003</td>\n",
       "      <td>2021-01-31</td>\n",
       "      <td>SAR</td>\n",
       "      <td>41992</td>\n",
       "      <td>2021-01-30</td>\n",
       "      <td>2021-03-01</td>\n",
       "      <td>INV</td>\n",
       "      <td>SAR</td>\n",
       "      <td>Non Goods</td>\n",
       "      <td>30</td>\n",
       "      <td>0</td>\n",
       "      <td>1</td>\n",
       "    </tr>\n",
       "    <tr>\n",
       "      <th>3</th>\n",
       "      <td>FARO Corp</td>\n",
       "      <td>1409</td>\n",
       "      <td>2021-01-31</td>\n",
       "      <td>SAR</td>\n",
       "      <td>41992</td>\n",
       "      <td>2020-12-15</td>\n",
       "      <td>2021-01-14</td>\n",
       "      <td>INV</td>\n",
       "      <td>SAR</td>\n",
       "      <td>Non Goods</td>\n",
       "      <td>30</td>\n",
       "      <td>1</td>\n",
       "      <td>47</td>\n",
       "    </tr>\n",
       "    <tr>\n",
       "      <th>4</th>\n",
       "      <td>RADW Corp</td>\n",
       "      <td>4003</td>\n",
       "      <td>2021-01-31</td>\n",
       "      <td>SAR</td>\n",
       "      <td>41992</td>\n",
       "      <td>2020-12-15</td>\n",
       "      <td>2021-01-14</td>\n",
       "      <td>INV</td>\n",
       "      <td>SAR</td>\n",
       "      <td>Non Goods</td>\n",
       "      <td>30</td>\n",
       "      <td>1</td>\n",
       "      <td>47</td>\n",
       "    </tr>\n",
       "  </tbody>\n",
       "</table>\n",
       "</div>"
      ],
      "text/plain": [
       "  CUSTOMER_NAME  CUSTOMER_NUMBER RECEIPT_DATE CURRENCY_CODE  USD_AMT  \\\n",
       "0     C EA Corp            37403   2021-04-20           USD   101019   \n",
       "1     RADW Corp             4003   2021-01-31           SAR    48990   \n",
       "2     RADW Corp             4003   2021-01-31           SAR    41992   \n",
       "3     FARO Corp             1409   2021-01-31           SAR    41992   \n",
       "4     RADW Corp             4003   2021-01-31           SAR    41992   \n",
       "\n",
       "  INVOICE_CREATION_DATE   DUE_DATE INVOICE_CLASS INVOICE_CURRENCY_CODE  \\\n",
       "0            2020-11-02 2020-12-30           INV                   AED   \n",
       "1            2020-12-29 2021-01-28           INV                   SAR   \n",
       "2            2021-01-30 2021-03-01           INV                   SAR   \n",
       "3            2020-12-15 2021-01-14           INV                   SAR   \n",
       "4            2020-12-15 2021-01-14           INV                   SAR   \n",
       "\n",
       "  INVOICE_TYPE  PAY_TERM  DELAYED  PAY_DAYS  \n",
       "0    Non Goods        58        1       169  \n",
       "1    Non Goods        30        1        33  \n",
       "2    Non Goods        30        0         1  \n",
       "3    Non Goods        30        1        47  \n",
       "4    Non Goods        30        1        47  "
      ]
     },
     "execution_count": 15,
     "metadata": {},
     "output_type": "execute_result"
    }
   ],
   "source": [
    "reData.head()"
   ]
  },
  {
   "cell_type": "markdown",
   "id": "029cfde9",
   "metadata": {},
   "source": [
    "###### PAY_TERM Cannot be Negative - that is Due Data cannot be before Invoice is generated "
   ]
  },
  {
   "cell_type": "code",
   "execution_count": 16,
   "id": "3503fd1e",
   "metadata": {},
   "outputs": [],
   "source": [
    "reData = reData[reData.PAY_TERM > 0]"
   ]
  },
  {
   "cell_type": "code",
   "execution_count": 17,
   "id": "7a261d75",
   "metadata": {},
   "outputs": [
    {
     "data": {
      "text/plain": [
       "(81077, 13)"
      ]
     },
     "execution_count": 17,
     "metadata": {},
     "output_type": "execute_result"
    }
   ],
   "source": [
    "reData.shape"
   ]
  },
  {
   "cell_type": "markdown",
   "id": "3145dd35",
   "metadata": {},
   "source": [
    "##### USD_AMT Cannot be Zero - Lets Eliminate the Bottom 02  and Top 2 Quantile "
   ]
  },
  {
   "cell_type": "code",
   "execution_count": 18,
   "id": "b8234953",
   "metadata": {},
   "outputs": [],
   "source": [
    "reData = reData[reData['USD_AMT'] > reData['USD_AMT'].quantile(.02)]\n",
    "reData = reData[reData['USD_AMT'] < reData['USD_AMT'].quantile(.98)]"
   ]
  },
  {
   "cell_type": "code",
   "execution_count": 19,
   "id": "c11e439c",
   "metadata": {},
   "outputs": [
    {
     "data": {
      "text/plain": [
       "<AxesSubplot:>"
      ]
     },
     "execution_count": 19,
     "metadata": {},
     "output_type": "execute_result"
    },
    {
     "data": {
      "image/png": "[encoded data removed]",
      "text/plain": [
       "<Figure size 432x288 with 1 Axes>"
      ]
     },
     "metadata": {
      "needs_background": "light"
     },
     "output_type": "display_data"
    }
   ],
   "source": [
    "reData.boxplot(column=['USD_AMT'])"
   ]
  },
  {
   "cell_type": "code",
   "execution_count": 20,
   "id": "fab9be73",
   "metadata": {},
   "outputs": [
    {
     "data": {
      "text/plain": [
       "count     77828\n",
       "mean     412280\n",
       "std      510678\n",
       "min         638\n",
       "25%       42006\n",
       "50%      194951\n",
       "75%      597764\n",
       "max     2771600\n",
       "Name: USD_AMT, dtype: float64"
      ]
     },
     "execution_count": 20,
     "metadata": {},
     "output_type": "execute_result"
    }
   ],
   "source": [
    "reData['USD_AMT'].describe()"
   ]
  },
  {
   "cell_type": "code",
   "execution_count": null,
   "id": "e8061c41",
   "metadata": {},
   "outputs": [],
   "source": []
  },
  {
   "cell_type": "code",
   "execution_count": 21,
   "id": "435c54d3",
   "metadata": {},
   "outputs": [
    {
     "data": {
      "text/plain": [
       "CUSTOMER_NAME      582\n",
       "CUSTOMER_NUMBER    859\n",
       "dtype: int64"
      ]
     },
     "execution_count": 21,
     "metadata": {},
     "output_type": "execute_result"
    }
   ],
   "source": [
    "### Check # of Unique Customers \n",
    "reData[['CUSTOMER_NAME','CUSTOMER_NUMBER']].nunique()"
   ]
  },
  {
   "cell_type": "markdown",
   "id": "e409b66d",
   "metadata": {},
   "source": [
    "#### CREATE CUSTOMER SEGMENTS BASED ON PAY_TERM - Average / Std Deviation"
   ]
  },
  {
   "cell_type": "code",
   "execution_count": 22,
   "id": "520e26eb",
   "metadata": {},
   "outputs": [],
   "source": [
    "csMeanPay = reData.groupby('CUSTOMER_NAME')['PAY_TERM'].mean()  ##Using PAY_TERM / PAY_DAYS"
   ]
  },
  {
   "cell_type": "code",
   "execution_count": 23,
   "id": "a8629d06",
   "metadata": {},
   "outputs": [],
   "source": [
    "csSDPay = reData.groupby('CUSTOMER_NAME')['PAY_TERM'].std()"
   ]
  },
  {
   "cell_type": "code",
   "execution_count": 24,
   "id": "465c3725",
   "metadata": {},
   "outputs": [],
   "source": [
    "csDF = pd.merge(csMeanPay, csSDPay, on='CUSTOMER_NAME' , suffixes=('_MN', '_SD') ,how='inner' )"
   ]
  },
  {
   "cell_type": "code",
   "execution_count": 25,
   "id": "d89c318f",
   "metadata": {},
   "outputs": [
    {
     "data": {
      "text/html": [
       "<div>\n",
       "<style scoped>\n",
       "    .dataframe tbody tr th:only-of-type {\n",
       "        vertical-align: middle;\n",
       "    }\n",
       "\n",
       "    .dataframe tbody tr th {\n",
       "        vertical-align: top;\n",
       "    }\n",
       "\n",
       "    .dataframe thead th {\n",
       "        text-align: right;\n",
       "    }\n",
       "</style>\n",
       "<table border=\"1\" class=\"dataframe\">\n",
       "  <thead>\n",
       "    <tr style=\"text-align: right;\">\n",
       "      <th></th>\n",
       "      <th>CUSTOMER_NAME</th>\n",
       "      <th>PAY_TERM_MN</th>\n",
       "      <th>PAY_TERM_SD</th>\n",
       "    </tr>\n",
       "  </thead>\n",
       "  <tbody>\n",
       "    <tr>\n",
       "      <th>0</th>\n",
       "      <td>3D D Corp</td>\n",
       "      <td>35</td>\n",
       "      <td>11</td>\n",
       "    </tr>\n",
       "    <tr>\n",
       "      <th>1</th>\n",
       "      <td>6TH  Corp</td>\n",
       "      <td>78</td>\n",
       "      <td>7</td>\n",
       "    </tr>\n",
       "    <tr>\n",
       "      <th>2</th>\n",
       "      <td>A3 D Corp</td>\n",
       "      <td>27</td>\n",
       "      <td>2</td>\n",
       "    </tr>\n",
       "    <tr>\n",
       "      <th>3</th>\n",
       "      <td>ABC  Corp</td>\n",
       "      <td>90</td>\n",
       "      <td>0</td>\n",
       "    </tr>\n",
       "    <tr>\n",
       "      <th>4</th>\n",
       "      <td>ABDU Corp</td>\n",
       "      <td>72</td>\n",
       "      <td>30</td>\n",
       "    </tr>\n",
       "    <tr>\n",
       "      <th>...</th>\n",
       "      <td>...</td>\n",
       "      <td>...</td>\n",
       "      <td>...</td>\n",
       "    </tr>\n",
       "    <tr>\n",
       "      <th>577</th>\n",
       "      <td>YOUS Corp</td>\n",
       "      <td>90</td>\n",
       "      <td>0</td>\n",
       "    </tr>\n",
       "    <tr>\n",
       "      <th>578</th>\n",
       "      <td>ZAHR Corp</td>\n",
       "      <td>96</td>\n",
       "      <td>18</td>\n",
       "    </tr>\n",
       "    <tr>\n",
       "      <th>579</th>\n",
       "      <td>ZAIN Corp</td>\n",
       "      <td>40</td>\n",
       "      <td>7</td>\n",
       "    </tr>\n",
       "    <tr>\n",
       "      <th>580</th>\n",
       "      <td>ZERO Corp</td>\n",
       "      <td>30</td>\n",
       "      <td>1</td>\n",
       "    </tr>\n",
       "    <tr>\n",
       "      <th>581</th>\n",
       "      <td>ZV F Corp</td>\n",
       "      <td>36</td>\n",
       "      <td>8</td>\n",
       "    </tr>\n",
       "  </tbody>\n",
       "</table>\n",
       "<p>582 rows × 3 columns</p>\n",
       "</div>"
      ],
      "text/plain": [
       "    CUSTOMER_NAME  PAY_TERM_MN  PAY_TERM_SD\n",
       "0       3D D Corp           35           11\n",
       "1       6TH  Corp           78            7\n",
       "2       A3 D Corp           27            2\n",
       "3       ABC  Corp           90            0\n",
       "4       ABDU Corp           72           30\n",
       "..            ...          ...          ...\n",
       "577     YOUS Corp           90            0\n",
       "578     ZAHR Corp           96           18\n",
       "579     ZAIN Corp           40            7\n",
       "580     ZERO Corp           30            1\n",
       "581     ZV F Corp           36            8\n",
       "\n",
       "[582 rows x 3 columns]"
      ]
     },
     "execution_count": 25,
     "metadata": {},
     "output_type": "execute_result"
    }
   ],
   "source": [
    "csDF.reset_index()"
   ]
  },
  {
   "cell_type": "code",
   "execution_count": 26,
   "id": "d7b11816",
   "metadata": {},
   "outputs": [
    {
     "name": "stdout",
     "output_type": "stream",
     "text": [
      "<class 'pandas.core.frame.DataFrame'>\n",
      "Index: 582 entries, 3D D Corp to ZV F Corp\n",
      "Data columns (total 2 columns):\n",
      " #   Column       Non-Null Count  Dtype  \n",
      "---  ------       --------------  -----  \n",
      " 0   PAY_TERM_MN  582 non-null    float64\n",
      " 1   PAY_TERM_SD  506 non-null    float64\n",
      "dtypes: float64(2)\n",
      "memory usage: 13.6+ KB\n"
     ]
    }
   ],
   "source": [
    "csDF.info()"
   ]
  },
  {
   "cell_type": "code",
   "execution_count": 27,
   "id": "69133fd6",
   "metadata": {},
   "outputs": [],
   "source": [
    "csDF['PAY_TERM_SD'] = csDF['PAY_TERM_SD'].replace(np.nan,0) "
   ]
  },
  {
   "cell_type": "code",
   "execution_count": 28,
   "id": "72930a7a",
   "metadata": {},
   "outputs": [
    {
     "data": {
      "text/html": [
       "<div>\n",
       "<style scoped>\n",
       "    .dataframe tbody tr th:only-of-type {\n",
       "        vertical-align: middle;\n",
       "    }\n",
       "\n",
       "    .dataframe tbody tr th {\n",
       "        vertical-align: top;\n",
       "    }\n",
       "\n",
       "    .dataframe thead th {\n",
       "        text-align: right;\n",
       "    }\n",
       "</style>\n",
       "<table border=\"1\" class=\"dataframe\">\n",
       "  <thead>\n",
       "    <tr style=\"text-align: right;\">\n",
       "      <th></th>\n",
       "      <th>PAY_TERM_MN</th>\n",
       "      <th>PAY_TERM_SD</th>\n",
       "    </tr>\n",
       "    <tr>\n",
       "      <th>CUSTOMER_NAME</th>\n",
       "      <th></th>\n",
       "      <th></th>\n",
       "    </tr>\n",
       "  </thead>\n",
       "  <tbody>\n",
       "    <tr>\n",
       "      <th>3D D Corp</th>\n",
       "      <td>35</td>\n",
       "      <td>11</td>\n",
       "    </tr>\n",
       "    <tr>\n",
       "      <th>6TH  Corp</th>\n",
       "      <td>78</td>\n",
       "      <td>7</td>\n",
       "    </tr>\n",
       "    <tr>\n",
       "      <th>A3 D Corp</th>\n",
       "      <td>27</td>\n",
       "      <td>2</td>\n",
       "    </tr>\n",
       "    <tr>\n",
       "      <th>ABC  Corp</th>\n",
       "      <td>90</td>\n",
       "      <td>0</td>\n",
       "    </tr>\n",
       "    <tr>\n",
       "      <th>ABDU Corp</th>\n",
       "      <td>72</td>\n",
       "      <td>30</td>\n",
       "    </tr>\n",
       "  </tbody>\n",
       "</table>\n",
       "</div>"
      ],
      "text/plain": [
       "               PAY_TERM_MN  PAY_TERM_SD\n",
       "CUSTOMER_NAME                          \n",
       "3D D Corp               35           11\n",
       "6TH  Corp               78            7\n",
       "A3 D Corp               27            2\n",
       "ABC  Corp               90            0\n",
       "ABDU Corp               72           30"
      ]
     },
     "execution_count": 28,
     "metadata": {},
     "output_type": "execute_result"
    }
   ],
   "source": [
    "csDF.head()"
   ]
  },
  {
   "cell_type": "code",
   "execution_count": 29,
   "id": "30fef7c9",
   "metadata": {},
   "outputs": [
    {
     "name": "stdout",
     "output_type": "stream",
     "text": [
      "<class 'pandas.core.frame.DataFrame'>\n",
      "Index: 582 entries, 3D D Corp to ZV F Corp\n",
      "Data columns (total 2 columns):\n",
      " #   Column       Non-Null Count  Dtype  \n",
      "---  ------       --------------  -----  \n",
      " 0   PAY_TERM_MN  582 non-null    float64\n",
      " 1   PAY_TERM_SD  582 non-null    float64\n",
      "dtypes: float64(2)\n",
      "memory usage: 13.6+ KB\n"
     ]
    }
   ],
   "source": [
    "csDF.info()"
   ]
  },
  {
   "cell_type": "code",
   "execution_count": 30,
   "id": "7d10fbcd",
   "metadata": {},
   "outputs": [
    {
     "data": {
      "text/plain": [
       "(582, 2)"
      ]
     },
     "execution_count": 30,
     "metadata": {},
     "output_type": "execute_result"
    }
   ],
   "source": [
    "### rescaling\n",
    "csDF_for_scaling = csDF[['PAY_TERM_MN', 'PAY_TERM_SD']]\n",
    "\n",
    "# instantiate\n",
    "csScaler = StandardScaler()\n",
    "\n",
    "# fit_transform\n",
    "csDF_Scaled = csScaler.fit_transform(csDF_for_scaling)\n",
    "csDF_Scaled.shape"
   ]
  },
  {
   "cell_type": "code",
   "execution_count": 31,
   "id": "c4f7ea74",
   "metadata": {},
   "outputs": [
    {
     "data": {
      "text/html": [
       "<div>\n",
       "<style scoped>\n",
       "    .dataframe tbody tr th:only-of-type {\n",
       "        vertical-align: middle;\n",
       "    }\n",
       "\n",
       "    .dataframe tbody tr th {\n",
       "        vertical-align: top;\n",
       "    }\n",
       "\n",
       "    .dataframe thead th {\n",
       "        text-align: right;\n",
       "    }\n",
       "</style>\n",
       "<table border=\"1\" class=\"dataframe\">\n",
       "  <thead>\n",
       "    <tr style=\"text-align: right;\">\n",
       "      <th></th>\n",
       "      <th>CS_Mean</th>\n",
       "      <th>CS_STDEV</th>\n",
       "    </tr>\n",
       "  </thead>\n",
       "  <tbody>\n",
       "    <tr>\n",
       "      <th>0</th>\n",
       "      <td>-1</td>\n",
       "      <td>1</td>\n",
       "    </tr>\n",
       "    <tr>\n",
       "      <th>1</th>\n",
       "      <td>1</td>\n",
       "      <td>0</td>\n",
       "    </tr>\n",
       "    <tr>\n",
       "      <th>2</th>\n",
       "      <td>-1</td>\n",
       "      <td>-0</td>\n",
       "    </tr>\n",
       "    <tr>\n",
       "      <th>3</th>\n",
       "      <td>2</td>\n",
       "      <td>-1</td>\n",
       "    </tr>\n",
       "    <tr>\n",
       "      <th>4</th>\n",
       "      <td>1</td>\n",
       "      <td>3</td>\n",
       "    </tr>\n",
       "  </tbody>\n",
       "</table>\n",
       "</div>"
      ],
      "text/plain": [
       "   CS_Mean  CS_STDEV\n",
       "0       -1         1\n",
       "1        1         0\n",
       "2       -1        -0\n",
       "3        2        -1\n",
       "4        1         3"
      ]
     },
     "execution_count": 31,
     "metadata": {},
     "output_type": "execute_result"
    }
   ],
   "source": [
    "csDF_Scaled = pd.DataFrame(csDF_Scaled)\n",
    "csDF_Scaled.columns = ['CS_Mean', 'CS_STDEV']\n",
    "csDF_Scaled.head()"
   ]
  },
  {
   "cell_type": "code",
   "execution_count": 32,
   "id": "5c55c37e",
   "metadata": {},
   "outputs": [
    {
     "name": "stdout",
     "output_type": "stream",
     "text": [
      "<class 'pandas.core.frame.DataFrame'>\n",
      "RangeIndex: 582 entries, 0 to 581\n",
      "Data columns (total 2 columns):\n",
      " #   Column    Non-Null Count  Dtype  \n",
      "---  ------    --------------  -----  \n",
      " 0   CS_Mean   582 non-null    float64\n",
      " 1   CS_STDEV  582 non-null    float64\n",
      "dtypes: float64(2)\n",
      "memory usage: 9.2 KB\n"
     ]
    }
   ],
   "source": [
    "csDF_Scaled.info()"
   ]
  },
  {
   "cell_type": "code",
   "execution_count": null,
   "id": "a1323714",
   "metadata": {},
   "outputs": [],
   "source": []
  },
  {
   "cell_type": "markdown",
   "id": "33b88318",
   "metadata": {},
   "source": [
    "###### Determine optimum K value from Silhoutte Analysis "
   ]
  },
  {
   "cell_type": "code",
   "execution_count": 33,
   "id": "cd6d5f7c",
   "metadata": {},
   "outputs": [
    {
     "name": "stdout",
     "output_type": "stream",
     "text": [
      "For 2 the silhouette score is 0.4666473910165313\n",
      "For 3 the silhouette score is 0.4812052358855987\n",
      "For 4 the silhouette score is 0.43806626773723034\n",
      "For 5 the silhouette score is 0.5058752273784887\n",
      "For 6 the silhouette score is 0.511560604865032\n",
      "For 7 the silhouette score is 0.5191704524574663\n",
      "For 8 the silhouette score is 0.5141224222718157\n",
      "For 9 the silhouette score is 0.5572419265132538\n"
     ]
    }
   ],
   "source": [
    "# silhouette analysis\n",
    "range_n_clusters = [2,3, 4, 5, 6, 7, 8,9]\n",
    "\n",
    "for num_clusters in range_n_clusters:\n",
    "    \n",
    "    # intialise kmeans\n",
    "    kmeans = KMeans(n_clusters=num_clusters, max_iter=50)\n",
    "    kmeans.fit(csDF_Scaled)\n",
    "    \n",
    "    cluster_labels = kmeans.labels_\n",
    "    \n",
    "    # silhouette score\n",
    "    silhouette_avg = silhouette_score(csDF_Scaled, cluster_labels)\n",
    "    print(f\"For {num_clusters} the silhouette score is {silhouette_avg}\")    \n",
    "    "
   ]
  },
  {
   "cell_type": "code",
   "execution_count": 34,
   "id": "a80b016b",
   "metadata": {},
   "outputs": [
    {
     "data": {
      "text/html": [
       "<style>#sk-container-id-1 {color: black;background-color: white;}#sk-container-id-1 pre{padding: 0;}#sk-container-id-1 div.sk-toggleable {background-color: white;}#sk-container-id-1 label.sk-toggleable__label {cursor: pointer;display: block;width: 100%;margin-bottom: 0;padding: 0.3em;box-sizing: border-box;text-align: center;}#sk-container-id-1 label.sk-toggleable__label-arrow:before {content: \"▸\";float: left;margin-right: 0.25em;color: #696969;}#sk-container-id-1 label.sk-toggleable__label-arrow:hover:before {color: black;}#sk-container-id-1 div.sk-estimator:hover label.sk-toggleable__label-arrow:before {color: black;}#sk-container-id-1 div.sk-toggleable__content {max-height: 0;max-width: 0;overflow: hidden;text-align: left;background-color: #f0f8ff;}#sk-container-id-1 div.sk-toggleable__content pre {margin: 0.2em;color: black;border-radius: 0.25em;background-color: #f0f8ff;}#sk-container-id-1 input.sk-toggleable__control:checked~div.sk-toggleable__content {max-height: 200px;max-width: 100%;overflow: auto;}#sk-container-id-1 input.sk-toggleable__control:checked~label.sk-toggleable__label-arrow:before {content: \"▾\";}#sk-container-id-1 div.sk-estimator input.sk-toggleable__control:checked~label.sk-toggleable__label {background-color: #d4ebff;}#sk-container-id-1 div.sk-label input.sk-toggleable__control:checked~label.sk-toggleable__label {background-color: #d4ebff;}#sk-container-id-1 input.sk-hidden--visually {border: 0;clip: rect(1px 1px 1px 1px);clip: rect(1px, 1px, 1px, 1px);height: 1px;margin: -1px;overflow: hidden;padding: 0;position: absolute;width: 1px;}#sk-container-id-1 div.sk-estimator {font-family: monospace;background-color: #f0f8ff;border: 1px dotted black;border-radius: 0.25em;box-sizing: border-box;margin-bottom: 0.5em;}#sk-container-id-1 div.sk-estimator:hover {background-color: #d4ebff;}#sk-container-id-1 div.sk-parallel-item::after {content: \"\";width: 100%;border-bottom: 1px solid gray;flex-grow: 1;}#sk-container-id-1 div.sk-label:hover label.sk-toggleable__label {background-color: #d4ebff;}#sk-container-id-1 div.sk-serial::before {content: \"\";position: absolute;border-left: 1px solid gray;box-sizing: border-box;top: 0;bottom: 0;left: 50%;z-index: 0;}#sk-container-id-1 div.sk-serial {display: flex;flex-direction: column;align-items: center;background-color: white;padding-right: 0.2em;padding-left: 0.2em;position: relative;}#sk-container-id-1 div.sk-item {position: relative;z-index: 1;}#sk-container-id-1 div.sk-parallel {display: flex;align-items: stretch;justify-content: center;background-color: white;position: relative;}#sk-container-id-1 div.sk-item::before, #sk-container-id-1 div.sk-parallel-item::before {content: \"\";position: absolute;border-left: 1px solid gray;box-sizing: border-box;top: 0;bottom: 0;left: 50%;z-index: -1;}#sk-container-id-1 div.sk-parallel-item {display: flex;flex-direction: column;z-index: 1;position: relative;background-color: white;}#sk-container-id-1 div.sk-parallel-item:first-child::after {align-self: flex-end;width: 50%;}#sk-container-id-1 div.sk-parallel-item:last-child::after {align-self: flex-start;width: 50%;}#sk-container-id-1 div.sk-parallel-item:only-child::after {width: 0;}#sk-container-id-1 div.sk-dashed-wrapped {border: 1px dashed gray;margin: 0 0.4em 0.5em 0.4em;box-sizing: border-box;padding-bottom: 0.4em;background-color: white;}#sk-container-id-1 div.sk-label label {font-family: monospace;font-weight: bold;display: inline-block;line-height: 1.2em;}#sk-container-id-1 div.sk-label-container {text-align: center;}#sk-container-id-1 div.sk-container {/* jupyter's `normalize.less` sets `[hidden] { display: none; }` but bootstrap.min.css set `[hidden] { display: none !important; }` so we also need the `!important` here to be able to override the default hidden behavior on the sphinx rendered scikit-learn.org. See: https://github.com/scikit-learn/scikit-learn/issues/21755 */display: inline-block !important;position: relative;}#sk-container-id-1 div.sk-text-repr-fallback {display: none;}</style><div id=\"sk-container-id-1\" class=\"sk-top-container\"><div class=\"sk-text-repr-fallback\"><pre>KMeans(max_iter=50, n_clusters=5)</pre><b>In a Jupyter environment, please rerun this cell to show the HTML representation or trust the notebook. <br />On GitHub, the HTML representation is unable to render, please try loading this page with nbviewer.org.</b></div><div class=\"sk-container\" hidden><div class=\"sk-item\"><div class=\"sk-estimator sk-toggleable\"><input class=\"sk-toggleable__control sk-hidden--visually\" id=\"sk-estimator-id-1\" type=\"checkbox\" checked><label for=\"sk-estimator-id-1\" class=\"sk-toggleable__label sk-toggleable__label-arrow\">KMeans</label><div class=\"sk-toggleable__content\"><pre>KMeans(max_iter=50, n_clusters=5)</pre></div></div></div></div></div>"
      ],
      "text/plain": [
       "KMeans(max_iter=50, n_clusters=5)"
      ]
     },
     "execution_count": 34,
     "metadata": {},
     "output_type": "execute_result"
    }
   ],
   "source": [
    "# final model with k=5\n",
    "kmeans = KMeans(n_clusters=5, max_iter=50)\n",
    "kmeans.fit(csDF_Scaled)"
   ]
  },
  {
   "cell_type": "code",
   "execution_count": 35,
   "id": "11dc99de",
   "metadata": {},
   "outputs": [
    {
     "data": {
      "text/html": [
       "<div>\n",
       "<style scoped>\n",
       "    .dataframe tbody tr th:only-of-type {\n",
       "        vertical-align: middle;\n",
       "    }\n",
       "\n",
       "    .dataframe tbody tr th {\n",
       "        vertical-align: top;\n",
       "    }\n",
       "\n",
       "    .dataframe thead th {\n",
       "        text-align: right;\n",
       "    }\n",
       "</style>\n",
       "<table border=\"1\" class=\"dataframe\">\n",
       "  <thead>\n",
       "    <tr style=\"text-align: right;\">\n",
       "      <th></th>\n",
       "      <th>PAY_TERM_MN</th>\n",
       "      <th>PAY_TERM_SD</th>\n",
       "      <th>cluster_id</th>\n",
       "    </tr>\n",
       "    <tr>\n",
       "      <th>CUSTOMER_NAME</th>\n",
       "      <th></th>\n",
       "      <th></th>\n",
       "      <th></th>\n",
       "    </tr>\n",
       "  </thead>\n",
       "  <tbody>\n",
       "    <tr>\n",
       "      <th>3D D Corp</th>\n",
       "      <td>35</td>\n",
       "      <td>11</td>\n",
       "      <td>0</td>\n",
       "    </tr>\n",
       "    <tr>\n",
       "      <th>6TH  Corp</th>\n",
       "      <td>78</td>\n",
       "      <td>7</td>\n",
       "      <td>3</td>\n",
       "    </tr>\n",
       "    <tr>\n",
       "      <th>A3 D Corp</th>\n",
       "      <td>27</td>\n",
       "      <td>2</td>\n",
       "      <td>2</td>\n",
       "    </tr>\n",
       "    <tr>\n",
       "      <th>ABC  Corp</th>\n",
       "      <td>90</td>\n",
       "      <td>0</td>\n",
       "      <td>3</td>\n",
       "    </tr>\n",
       "    <tr>\n",
       "      <th>ABDU Corp</th>\n",
       "      <td>72</td>\n",
       "      <td>30</td>\n",
       "      <td>4</td>\n",
       "    </tr>\n",
       "  </tbody>\n",
       "</table>\n",
       "</div>"
      ],
      "text/plain": [
       "               PAY_TERM_MN  PAY_TERM_SD  cluster_id\n",
       "CUSTOMER_NAME                                      \n",
       "3D D Corp               35           11           0\n",
       "6TH  Corp               78            7           3\n",
       "A3 D Corp               27            2           2\n",
       "ABC  Corp               90            0           3\n",
       "ABDU Corp               72           30           4"
      ]
     },
     "execution_count": 35,
     "metadata": {},
     "output_type": "execute_result"
    }
   ],
   "source": [
    "# assign the label\n",
    "csDF['cluster_id'] = kmeans.labels_\n",
    "csDF.head()"
   ]
  },
  {
   "cell_type": "code",
   "execution_count": 36,
   "id": "d67161ae",
   "metadata": {},
   "outputs": [
    {
     "data": {
      "text/plain": [
       "1    182\n",
       "0    143\n",
       "2    139\n",
       "3     66\n",
       "4     52\n",
       "Name: cluster_id, dtype: int64"
      ]
     },
     "execution_count": 36,
     "metadata": {},
     "output_type": "execute_result"
    }
   ],
   "source": [
    "csDF.cluster_id.value_counts()"
   ]
  },
  {
   "cell_type": "markdown",
   "id": "ee7f6eb3",
   "metadata": {},
   "source": [
    "##### MERGE WITH reDATA so that we have Customer Segmentation with origianl Frame "
   ]
  },
  {
   "cell_type": "code",
   "execution_count": 37,
   "id": "c996b410",
   "metadata": {},
   "outputs": [],
   "source": [
    "reData = reData.merge(csDF, how='left' , on='CUSTOMER_NAME' )"
   ]
  },
  {
   "cell_type": "code",
   "execution_count": 38,
   "id": "eb8e06c8",
   "metadata": {},
   "outputs": [
    {
     "data": {
      "text/html": [
       "<div>\n",
       "<style scoped>\n",
       "    .dataframe tbody tr th:only-of-type {\n",
       "        vertical-align: middle;\n",
       "    }\n",
       "\n",
       "    .dataframe tbody tr th {\n",
       "        vertical-align: top;\n",
       "    }\n",
       "\n",
       "    .dataframe thead th {\n",
       "        text-align: right;\n",
       "    }\n",
       "</style>\n",
       "<table border=\"1\" class=\"dataframe\">\n",
       "  <thead>\n",
       "    <tr style=\"text-align: right;\">\n",
       "      <th></th>\n",
       "      <th>CUSTOMER_NAME</th>\n",
       "      <th>CUSTOMER_NUMBER</th>\n",
       "      <th>RECEIPT_DATE</th>\n",
       "      <th>CURRENCY_CODE</th>\n",
       "      <th>USD_AMT</th>\n",
       "      <th>INVOICE_CREATION_DATE</th>\n",
       "      <th>DUE_DATE</th>\n",
       "      <th>INVOICE_CLASS</th>\n",
       "      <th>INVOICE_CURRENCY_CODE</th>\n",
       "      <th>INVOICE_TYPE</th>\n",
       "      <th>PAY_TERM</th>\n",
       "      <th>DELAYED</th>\n",
       "      <th>PAY_DAYS</th>\n",
       "      <th>PAY_TERM_MN</th>\n",
       "      <th>PAY_TERM_SD</th>\n",
       "      <th>cluster_id</th>\n",
       "    </tr>\n",
       "  </thead>\n",
       "  <tbody>\n",
       "    <tr>\n",
       "      <th>77823</th>\n",
       "      <td>PEAR Corp</td>\n",
       "      <td>21144</td>\n",
       "      <td>2021-04-01</td>\n",
       "      <td>USD</td>\n",
       "      <td>59914</td>\n",
       "      <td>2021-02-07</td>\n",
       "      <td>2021-04-05</td>\n",
       "      <td>INV</td>\n",
       "      <td>USD</td>\n",
       "      <td>Goods</td>\n",
       "      <td>57</td>\n",
       "      <td>0</td>\n",
       "      <td>53</td>\n",
       "      <td>56</td>\n",
       "      <td>5</td>\n",
       "      <td>1</td>\n",
       "    </tr>\n",
       "    <tr>\n",
       "      <th>77824</th>\n",
       "      <td>PEAR Corp</td>\n",
       "      <td>21144</td>\n",
       "      <td>2021-04-01</td>\n",
       "      <td>USD</td>\n",
       "      <td>59914</td>\n",
       "      <td>2021-01-11</td>\n",
       "      <td>2021-03-12</td>\n",
       "      <td>INV</td>\n",
       "      <td>USD</td>\n",
       "      <td>Goods</td>\n",
       "      <td>60</td>\n",
       "      <td>1</td>\n",
       "      <td>80</td>\n",
       "      <td>56</td>\n",
       "      <td>5</td>\n",
       "      <td>1</td>\n",
       "    </tr>\n",
       "    <tr>\n",
       "      <th>77825</th>\n",
       "      <td>PEAR Corp</td>\n",
       "      <td>21144</td>\n",
       "      <td>2021-04-01</td>\n",
       "      <td>USD</td>\n",
       "      <td>59914</td>\n",
       "      <td>2020-12-21</td>\n",
       "      <td>2021-02-13</td>\n",
       "      <td>INV</td>\n",
       "      <td>USD</td>\n",
       "      <td>Goods</td>\n",
       "      <td>54</td>\n",
       "      <td>1</td>\n",
       "      <td>101</td>\n",
       "      <td>56</td>\n",
       "      <td>5</td>\n",
       "      <td>1</td>\n",
       "    </tr>\n",
       "    <tr>\n",
       "      <th>77826</th>\n",
       "      <td>NAMS Corp</td>\n",
       "      <td>21145</td>\n",
       "      <td>2021-04-01</td>\n",
       "      <td>AED</td>\n",
       "      <td>23574</td>\n",
       "      <td>2021-01-24</td>\n",
       "      <td>2021-03-24</td>\n",
       "      <td>INV</td>\n",
       "      <td>AED</td>\n",
       "      <td>Goods</td>\n",
       "      <td>59</td>\n",
       "      <td>1</td>\n",
       "      <td>67</td>\n",
       "      <td>65</td>\n",
       "      <td>13</td>\n",
       "      <td>0</td>\n",
       "    </tr>\n",
       "    <tr>\n",
       "      <th>77827</th>\n",
       "      <td>SENS Corp</td>\n",
       "      <td>48486</td>\n",
       "      <td>2021-04-08</td>\n",
       "      <td>AED</td>\n",
       "      <td>1443</td>\n",
       "      <td>2021-02-16</td>\n",
       "      <td>2021-03-30</td>\n",
       "      <td>INV</td>\n",
       "      <td>AED</td>\n",
       "      <td>Goods</td>\n",
       "      <td>42</td>\n",
       "      <td>1</td>\n",
       "      <td>51</td>\n",
       "      <td>49</td>\n",
       "      <td>6</td>\n",
       "      <td>0</td>\n",
       "    </tr>\n",
       "  </tbody>\n",
       "</table>\n",
       "</div>"
      ],
      "text/plain": [
       "      CUSTOMER_NAME  CUSTOMER_NUMBER RECEIPT_DATE CURRENCY_CODE  USD_AMT  \\\n",
       "77823     PEAR Corp            21144   2021-04-01           USD    59914   \n",
       "77824     PEAR Corp            21144   2021-04-01           USD    59914   \n",
       "77825     PEAR Corp            21144   2021-04-01           USD    59914   \n",
       "77826     NAMS Corp            21145   2021-04-01           AED    23574   \n",
       "77827     SENS Corp            48486   2021-04-08           AED     1443   \n",
       "\n",
       "      INVOICE_CREATION_DATE   DUE_DATE INVOICE_CLASS INVOICE_CURRENCY_CODE  \\\n",
       "77823            2021-02-07 2021-04-05           INV                   USD   \n",
       "77824            2021-01-11 2021-03-12           INV                   USD   \n",
       "77825            2020-12-21 2021-02-13           INV                   USD   \n",
       "77826            2021-01-24 2021-03-24           INV                   AED   \n",
       "77827            2021-02-16 2021-03-30           INV                   AED   \n",
       "\n",
       "      INVOICE_TYPE  PAY_TERM  DELAYED  PAY_DAYS  PAY_TERM_MN  PAY_TERM_SD  \\\n",
       "77823        Goods        57        0        53           56            5   \n",
       "77824        Goods        60        1        80           56            5   \n",
       "77825        Goods        54        1       101           56            5   \n",
       "77826        Goods        59        1        67           65           13   \n",
       "77827        Goods        42        1        51           49            6   \n",
       "\n",
       "       cluster_id  \n",
       "77823           1  \n",
       "77824           1  \n",
       "77825           1  \n",
       "77826           0  \n",
       "77827           0  "
      ]
     },
     "execution_count": 38,
     "metadata": {},
     "output_type": "execute_result"
    }
   ],
   "source": [
    "reData.tail()"
   ]
  },
  {
   "cell_type": "code",
   "execution_count": 39,
   "id": "a66abbdd",
   "metadata": {},
   "outputs": [],
   "source": [
    "def cSegments(seg_num):\n",
    "    if seg_num == 0 :\n",
    "        return 'A' \n",
    "    elif seg_num == 1 :\n",
    "        return 'B'\n",
    "    elif seg_num == 2 :\n",
    "        return 'C' \n",
    "    elif seg_num == 3 :\n",
    "        return 'D'\n",
    "    else :\n",
    "        return 'E'\n",
    "    "
   ]
  },
  {
   "cell_type": "code",
   "execution_count": 40,
   "id": "c8afd867",
   "metadata": {},
   "outputs": [],
   "source": [
    "reData[\"CUST_SEGMENT\"] = reData[\"cluster_id\"].apply(lambda x: cSegments(x))"
   ]
  },
  {
   "cell_type": "code",
   "execution_count": null,
   "id": "07540fab",
   "metadata": {},
   "outputs": [],
   "source": []
  },
  {
   "cell_type": "markdown",
   "id": "9a191697",
   "metadata": {},
   "source": [
    "##### Let's Check each of the Variables against Target \n"
   ]
  },
  {
   "cell_type": "code",
   "execution_count": 41,
   "id": "a9f9bfb7",
   "metadata": {},
   "outputs": [
    {
     "data": {
      "image/png": "[encoded data removed]",
      "text/plain": [
       "<Figure size 432x288 with 1 Axes>"
      ]
     },
     "metadata": {
      "needs_background": "light"
     },
     "output_type": "display_data"
    }
   ],
   "source": [
    "#plot the bar graph of Currency Code Agaianst Target (Delayed)\n",
    "reData.groupby(\"CURRENCY_CODE\")[\"DELAYED\"].mean().plot.barh()\n",
    "plt.show()"
   ]
  },
  {
   "cell_type": "code",
   "execution_count": 42,
   "id": "13ef7c57",
   "metadata": {},
   "outputs": [
    {
     "data": {
      "image/png": "[encoded data removed]",
      "text/plain": [
       "<Figure size 432x288 with 1 Axes>"
      ]
     },
     "metadata": {
      "needs_background": "light"
     },
     "output_type": "display_data"
    }
   ],
   "source": [
    "#plot the bar graph of Currency Code Agaianst Target (Delayed)\n",
    "reData.groupby(\"INVOICE_CLASS\")[\"DELAYED\"].mean().plot.barh()\n",
    "plt.show()\n"
   ]
  },
  {
   "cell_type": "code",
   "execution_count": 43,
   "id": "c757be57",
   "metadata": {},
   "outputs": [
    {
     "data": {
      "image/png": "[encoded data removed]",
      "text/plain": [
       "<Figure size 432x288 with 1 Axes>"
      ]
     },
     "metadata": {
      "needs_background": "light"
     },
     "output_type": "display_data"
    }
   ],
   "source": [
    "#plot the bar graph of Currency Code Agaianst Target (Delayed)\n",
    "reData.groupby(\"INVOICE_TYPE\")[\"DELAYED\"].mean().plot.barh()\n",
    "plt.show()"
   ]
  },
  {
   "cell_type": "code",
   "execution_count": 44,
   "id": "c42d6043",
   "metadata": {},
   "outputs": [
    {
     "data": {
      "image/png": "[encoded data removed]",
      "text/plain": [
       "<Figure size 432x288 with 1 Axes>"
      ]
     },
     "metadata": {
      "needs_background": "light"
     },
     "output_type": "display_data"
    }
   ],
   "source": [
    "#plot the box plot of USD Amout for Target (Delayed)\n",
    "sns.boxplot(data=reData, x=\"DELAYED\", y=\"USD_AMT\")\n",
    "plt.show()"
   ]
  },
  {
   "cell_type": "code",
   "execution_count": 45,
   "id": "48d4770f",
   "metadata": {},
   "outputs": [
    {
     "data": {
      "image/png": "[encoded data removed]",
      "text/plain": [
       "<Figure size 432x288 with 1 Axes>"
      ]
     },
     "metadata": {
      "needs_background": "light"
     },
     "output_type": "display_data"
    }
   ],
   "source": [
    "### \n",
    "#plot the scatter plot of USD Amount and PAY_TERM \n",
    "plt.scatter(reData.PAY_TERM, reData['USD_AMT'])\n",
    "plt.show()"
   ]
  },
  {
   "cell_type": "code",
   "execution_count": 46,
   "id": "9654023b",
   "metadata": {},
   "outputs": [
    {
     "data": {
      "text/html": [
       "<div>\n",
       "<style scoped>\n",
       "    .dataframe tbody tr th:only-of-type {\n",
       "        vertical-align: middle;\n",
       "    }\n",
       "\n",
       "    .dataframe tbody tr th {\n",
       "        vertical-align: top;\n",
       "    }\n",
       "\n",
       "    .dataframe thead th {\n",
       "        text-align: right;\n",
       "    }\n",
       "</style>\n",
       "<table border=\"1\" class=\"dataframe\">\n",
       "  <thead>\n",
       "    <tr style=\"text-align: right;\">\n",
       "      <th></th>\n",
       "      <th>CUSTOMER_NAME</th>\n",
       "      <th>CUSTOMER_NUMBER</th>\n",
       "      <th>RECEIPT_DATE</th>\n",
       "      <th>CURRENCY_CODE</th>\n",
       "      <th>USD_AMT</th>\n",
       "      <th>INVOICE_CREATION_DATE</th>\n",
       "      <th>DUE_DATE</th>\n",
       "      <th>INVOICE_CLASS</th>\n",
       "      <th>INVOICE_CURRENCY_CODE</th>\n",
       "      <th>INVOICE_TYPE</th>\n",
       "      <th>PAY_TERM</th>\n",
       "      <th>DELAYED</th>\n",
       "      <th>PAY_DAYS</th>\n",
       "      <th>PAY_TERM_MN</th>\n",
       "      <th>PAY_TERM_SD</th>\n",
       "      <th>cluster_id</th>\n",
       "      <th>CUST_SEGMENT</th>\n",
       "    </tr>\n",
       "  </thead>\n",
       "  <tbody>\n",
       "    <tr>\n",
       "      <th>0</th>\n",
       "      <td>C EA Corp</td>\n",
       "      <td>37403</td>\n",
       "      <td>2021-04-20</td>\n",
       "      <td>USD</td>\n",
       "      <td>101019</td>\n",
       "      <td>2020-11-02</td>\n",
       "      <td>2020-12-30</td>\n",
       "      <td>INV</td>\n",
       "      <td>AED</td>\n",
       "      <td>Non Goods</td>\n",
       "      <td>58</td>\n",
       "      <td>1</td>\n",
       "      <td>169</td>\n",
       "      <td>56</td>\n",
       "      <td>4</td>\n",
       "      <td>1</td>\n",
       "      <td>B</td>\n",
       "    </tr>\n",
       "    <tr>\n",
       "      <th>1</th>\n",
       "      <td>RADW Corp</td>\n",
       "      <td>4003</td>\n",
       "      <td>2021-01-31</td>\n",
       "      <td>SAR</td>\n",
       "      <td>48990</td>\n",
       "      <td>2020-12-29</td>\n",
       "      <td>2021-01-28</td>\n",
       "      <td>INV</td>\n",
       "      <td>SAR</td>\n",
       "      <td>Non Goods</td>\n",
       "      <td>30</td>\n",
       "      <td>1</td>\n",
       "      <td>33</td>\n",
       "      <td>41</td>\n",
       "      <td>19</td>\n",
       "      <td>4</td>\n",
       "      <td>E</td>\n",
       "    </tr>\n",
       "    <tr>\n",
       "      <th>2</th>\n",
       "      <td>RADW Corp</td>\n",
       "      <td>4003</td>\n",
       "      <td>2021-01-31</td>\n",
       "      <td>SAR</td>\n",
       "      <td>41992</td>\n",
       "      <td>2021-01-30</td>\n",
       "      <td>2021-03-01</td>\n",
       "      <td>INV</td>\n",
       "      <td>SAR</td>\n",
       "      <td>Non Goods</td>\n",
       "      <td>30</td>\n",
       "      <td>0</td>\n",
       "      <td>1</td>\n",
       "      <td>41</td>\n",
       "      <td>19</td>\n",
       "      <td>4</td>\n",
       "      <td>E</td>\n",
       "    </tr>\n",
       "    <tr>\n",
       "      <th>3</th>\n",
       "      <td>FARO Corp</td>\n",
       "      <td>1409</td>\n",
       "      <td>2021-01-31</td>\n",
       "      <td>SAR</td>\n",
       "      <td>41992</td>\n",
       "      <td>2020-12-15</td>\n",
       "      <td>2021-01-14</td>\n",
       "      <td>INV</td>\n",
       "      <td>SAR</td>\n",
       "      <td>Non Goods</td>\n",
       "      <td>30</td>\n",
       "      <td>1</td>\n",
       "      <td>47</td>\n",
       "      <td>47</td>\n",
       "      <td>18</td>\n",
       "      <td>4</td>\n",
       "      <td>E</td>\n",
       "    </tr>\n",
       "    <tr>\n",
       "      <th>4</th>\n",
       "      <td>RADW Corp</td>\n",
       "      <td>4003</td>\n",
       "      <td>2021-01-31</td>\n",
       "      <td>SAR</td>\n",
       "      <td>41992</td>\n",
       "      <td>2020-12-15</td>\n",
       "      <td>2021-01-14</td>\n",
       "      <td>INV</td>\n",
       "      <td>SAR</td>\n",
       "      <td>Non Goods</td>\n",
       "      <td>30</td>\n",
       "      <td>1</td>\n",
       "      <td>47</td>\n",
       "      <td>41</td>\n",
       "      <td>19</td>\n",
       "      <td>4</td>\n",
       "      <td>E</td>\n",
       "    </tr>\n",
       "  </tbody>\n",
       "</table>\n",
       "</div>"
      ],
      "text/plain": [
       "  CUSTOMER_NAME  CUSTOMER_NUMBER RECEIPT_DATE CURRENCY_CODE  USD_AMT  \\\n",
       "0     C EA Corp            37403   2021-04-20           USD   101019   \n",
       "1     RADW Corp             4003   2021-01-31           SAR    48990   \n",
       "2     RADW Corp             4003   2021-01-31           SAR    41992   \n",
       "3     FARO Corp             1409   2021-01-31           SAR    41992   \n",
       "4     RADW Corp             4003   2021-01-31           SAR    41992   \n",
       "\n",
       "  INVOICE_CREATION_DATE   DUE_DATE INVOICE_CLASS INVOICE_CURRENCY_CODE  \\\n",
       "0            2020-11-02 2020-12-30           INV                   AED   \n",
       "1            2020-12-29 2021-01-28           INV                   SAR   \n",
       "2            2021-01-30 2021-03-01           INV                   SAR   \n",
       "3            2020-12-15 2021-01-14           INV                   SAR   \n",
       "4            2020-12-15 2021-01-14           INV                   SAR   \n",
       "\n",
       "  INVOICE_TYPE  PAY_TERM  DELAYED  PAY_DAYS  PAY_TERM_MN  PAY_TERM_SD  \\\n",
       "0    Non Goods        58        1       169           56            4   \n",
       "1    Non Goods        30        1        33           41           19   \n",
       "2    Non Goods        30        0         1           41           19   \n",
       "3    Non Goods        30        1        47           47           18   \n",
       "4    Non Goods        30        1        47           41           19   \n",
       "\n",
       "   cluster_id CUST_SEGMENT  \n",
       "0           1            B  \n",
       "1           4            E  \n",
       "2           4            E  \n",
       "3           4            E  \n",
       "4           4            E  "
      ]
     },
     "execution_count": 46,
     "metadata": {},
     "output_type": "execute_result"
    }
   ],
   "source": [
    "reData.head()"
   ]
  },
  {
   "cell_type": "code",
   "execution_count": 47,
   "id": "6edae2d6",
   "metadata": {},
   "outputs": [],
   "source": [
    "### Lets Retain only the Required Columns\n",
    "reqRetailCols = ['CUSTOMER_NAME','CURRENCY_CODE','USD_AMT','INVOICE_CLASS','CUST_SEGMENT', 'PAY_TERM','DELAYED']"
   ]
  },
  {
   "cell_type": "code",
   "execution_count": 48,
   "id": "eaee29e1",
   "metadata": {},
   "outputs": [],
   "source": [
    "reDF = reData[reqRetailCols]"
   ]
  },
  {
   "cell_type": "code",
   "execution_count": 49,
   "id": "8996f69d",
   "metadata": {},
   "outputs": [
    {
     "data": {
      "text/html": [
       "<div>\n",
       "<style scoped>\n",
       "    .dataframe tbody tr th:only-of-type {\n",
       "        vertical-align: middle;\n",
       "    }\n",
       "\n",
       "    .dataframe tbody tr th {\n",
       "        vertical-align: top;\n",
       "    }\n",
       "\n",
       "    .dataframe thead th {\n",
       "        text-align: right;\n",
       "    }\n",
       "</style>\n",
       "<table border=\"1\" class=\"dataframe\">\n",
       "  <thead>\n",
       "    <tr style=\"text-align: right;\">\n",
       "      <th></th>\n",
       "      <th>CUSTOMER_NAME</th>\n",
       "      <th>CURRENCY_CODE</th>\n",
       "      <th>USD_AMT</th>\n",
       "      <th>INVOICE_CLASS</th>\n",
       "      <th>CUST_SEGMENT</th>\n",
       "      <th>PAY_TERM</th>\n",
       "      <th>DELAYED</th>\n",
       "    </tr>\n",
       "  </thead>\n",
       "  <tbody>\n",
       "    <tr>\n",
       "      <th>0</th>\n",
       "      <td>C EA Corp</td>\n",
       "      <td>USD</td>\n",
       "      <td>101019</td>\n",
       "      <td>INV</td>\n",
       "      <td>B</td>\n",
       "      <td>58</td>\n",
       "      <td>1</td>\n",
       "    </tr>\n",
       "    <tr>\n",
       "      <th>1</th>\n",
       "      <td>RADW Corp</td>\n",
       "      <td>SAR</td>\n",
       "      <td>48990</td>\n",
       "      <td>INV</td>\n",
       "      <td>E</td>\n",
       "      <td>30</td>\n",
       "      <td>1</td>\n",
       "    </tr>\n",
       "    <tr>\n",
       "      <th>2</th>\n",
       "      <td>RADW Corp</td>\n",
       "      <td>SAR</td>\n",
       "      <td>41992</td>\n",
       "      <td>INV</td>\n",
       "      <td>E</td>\n",
       "      <td>30</td>\n",
       "      <td>0</td>\n",
       "    </tr>\n",
       "    <tr>\n",
       "      <th>3</th>\n",
       "      <td>FARO Corp</td>\n",
       "      <td>SAR</td>\n",
       "      <td>41992</td>\n",
       "      <td>INV</td>\n",
       "      <td>E</td>\n",
       "      <td>30</td>\n",
       "      <td>1</td>\n",
       "    </tr>\n",
       "    <tr>\n",
       "      <th>4</th>\n",
       "      <td>RADW Corp</td>\n",
       "      <td>SAR</td>\n",
       "      <td>41992</td>\n",
       "      <td>INV</td>\n",
       "      <td>E</td>\n",
       "      <td>30</td>\n",
       "      <td>1</td>\n",
       "    </tr>\n",
       "  </tbody>\n",
       "</table>\n",
       "</div>"
      ],
      "text/plain": [
       "  CUSTOMER_NAME CURRENCY_CODE  USD_AMT INVOICE_CLASS CUST_SEGMENT  PAY_TERM  \\\n",
       "0     C EA Corp           USD   101019           INV            B        58   \n",
       "1     RADW Corp           SAR    48990           INV            E        30   \n",
       "2     RADW Corp           SAR    41992           INV            E        30   \n",
       "3     FARO Corp           SAR    41992           INV            E        30   \n",
       "4     RADW Corp           SAR    41992           INV            E        30   \n",
       "\n",
       "   DELAYED  \n",
       "0        1  \n",
       "1        1  \n",
       "2        0  \n",
       "3        1  \n",
       "4        1  "
      ]
     },
     "execution_count": 49,
     "metadata": {},
     "output_type": "execute_result"
    }
   ],
   "source": [
    "reDF.head()"
   ]
  },
  {
   "cell_type": "code",
   "execution_count": 50,
   "id": "66e8fdee",
   "metadata": {},
   "outputs": [
    {
     "data": {
      "text/plain": [
       "(77828, 7)"
      ]
     },
     "execution_count": 50,
     "metadata": {},
     "output_type": "execute_result"
    }
   ],
   "source": [
    "reDF.shape"
   ]
  },
  {
   "cell_type": "markdown",
   "id": "e464d7dc",
   "metadata": {},
   "source": [
    "### INITIATE PREP FOR MODELING"
   ]
  },
  {
   "cell_type": "markdown",
   "id": "b652a076",
   "metadata": {},
   "source": [
    "##### 1. CREATE DUMMY VARIABLES FOR CATEGORICAL VARABLES "
   ]
  },
  {
   "cell_type": "code",
   "execution_count": 51,
   "id": "3cee9605",
   "metadata": {},
   "outputs": [],
   "source": [
    "dum_DF = pd.get_dummies(reDF[['CURRENCY_CODE','INVOICE_CLASS','CUST_SEGMENT']], drop_first=True)\n"
   ]
  },
  {
   "cell_type": "code",
   "execution_count": 52,
   "id": "2394e15c",
   "metadata": {},
   "outputs": [
    {
     "data": {
      "text/html": [
       "<div>\n",
       "<style scoped>\n",
       "    .dataframe tbody tr th:only-of-type {\n",
       "        vertical-align: middle;\n",
       "    }\n",
       "\n",
       "    .dataframe tbody tr th {\n",
       "        vertical-align: top;\n",
       "    }\n",
       "\n",
       "    .dataframe thead th {\n",
       "        text-align: right;\n",
       "    }\n",
       "</style>\n",
       "<table border=\"1\" class=\"dataframe\">\n",
       "  <thead>\n",
       "    <tr style=\"text-align: right;\">\n",
       "      <th></th>\n",
       "      <th>CURRENCY_CODE_BHD</th>\n",
       "      <th>CURRENCY_CODE_EUR</th>\n",
       "      <th>CURRENCY_CODE_GBP</th>\n",
       "      <th>CURRENCY_CODE_KWD</th>\n",
       "      <th>CURRENCY_CODE_SAR</th>\n",
       "      <th>CURRENCY_CODE_USD</th>\n",
       "      <th>INVOICE_CLASS_DM</th>\n",
       "      <th>INVOICE_CLASS_INV</th>\n",
       "      <th>CUST_SEGMENT_B</th>\n",
       "      <th>CUST_SEGMENT_C</th>\n",
       "      <th>CUST_SEGMENT_D</th>\n",
       "      <th>CUST_SEGMENT_E</th>\n",
       "    </tr>\n",
       "  </thead>\n",
       "  <tbody>\n",
       "    <tr>\n",
       "      <th>0</th>\n",
       "      <td>0</td>\n",
       "      <td>0</td>\n",
       "      <td>0</td>\n",
       "      <td>0</td>\n",
       "      <td>0</td>\n",
       "      <td>1</td>\n",
       "      <td>0</td>\n",
       "      <td>1</td>\n",
       "      <td>1</td>\n",
       "      <td>0</td>\n",
       "      <td>0</td>\n",
       "      <td>0</td>\n",
       "    </tr>\n",
       "    <tr>\n",
       "      <th>1</th>\n",
       "      <td>0</td>\n",
       "      <td>0</td>\n",
       "      <td>0</td>\n",
       "      <td>0</td>\n",
       "      <td>1</td>\n",
       "      <td>0</td>\n",
       "      <td>0</td>\n",
       "      <td>1</td>\n",
       "      <td>0</td>\n",
       "      <td>0</td>\n",
       "      <td>0</td>\n",
       "      <td>1</td>\n",
       "    </tr>\n",
       "    <tr>\n",
       "      <th>2</th>\n",
       "      <td>0</td>\n",
       "      <td>0</td>\n",
       "      <td>0</td>\n",
       "      <td>0</td>\n",
       "      <td>1</td>\n",
       "      <td>0</td>\n",
       "      <td>0</td>\n",
       "      <td>1</td>\n",
       "      <td>0</td>\n",
       "      <td>0</td>\n",
       "      <td>0</td>\n",
       "      <td>1</td>\n",
       "    </tr>\n",
       "    <tr>\n",
       "      <th>3</th>\n",
       "      <td>0</td>\n",
       "      <td>0</td>\n",
       "      <td>0</td>\n",
       "      <td>0</td>\n",
       "      <td>1</td>\n",
       "      <td>0</td>\n",
       "      <td>0</td>\n",
       "      <td>1</td>\n",
       "      <td>0</td>\n",
       "      <td>0</td>\n",
       "      <td>0</td>\n",
       "      <td>1</td>\n",
       "    </tr>\n",
       "    <tr>\n",
       "      <th>4</th>\n",
       "      <td>0</td>\n",
       "      <td>0</td>\n",
       "      <td>0</td>\n",
       "      <td>0</td>\n",
       "      <td>1</td>\n",
       "      <td>0</td>\n",
       "      <td>0</td>\n",
       "      <td>1</td>\n",
       "      <td>0</td>\n",
       "      <td>0</td>\n",
       "      <td>0</td>\n",
       "      <td>1</td>\n",
       "    </tr>\n",
       "  </tbody>\n",
       "</table>\n",
       "</div>"
      ],
      "text/plain": [
       "   CURRENCY_CODE_BHD  CURRENCY_CODE_EUR  CURRENCY_CODE_GBP  CURRENCY_CODE_KWD  \\\n",
       "0                  0                  0                  0                  0   \n",
       "1                  0                  0                  0                  0   \n",
       "2                  0                  0                  0                  0   \n",
       "3                  0                  0                  0                  0   \n",
       "4                  0                  0                  0                  0   \n",
       "\n",
       "   CURRENCY_CODE_SAR  CURRENCY_CODE_USD  INVOICE_CLASS_DM  INVOICE_CLASS_INV  \\\n",
       "0                  0                  1                 0                  1   \n",
       "1                  1                  0                 0                  1   \n",
       "2                  1                  0                 0                  1   \n",
       "3                  1                  0                 0                  1   \n",
       "4                  1                  0                 0                  1   \n",
       "\n",
       "   CUST_SEGMENT_B  CUST_SEGMENT_C  CUST_SEGMENT_D  CUST_SEGMENT_E  \n",
       "0               1               0               0               0  \n",
       "1               0               0               0               1  \n",
       "2               0               0               0               1  \n",
       "3               0               0               0               1  \n",
       "4               0               0               0               1  "
      ]
     },
     "execution_count": 52,
     "metadata": {},
     "output_type": "execute_result"
    }
   ],
   "source": [
    "dum_DF.head()"
   ]
  },
  {
   "cell_type": "code",
   "execution_count": 53,
   "id": "f67b4807",
   "metadata": {},
   "outputs": [
    {
     "data": {
      "text/html": [
       "<div>\n",
       "<style scoped>\n",
       "    .dataframe tbody tr th:only-of-type {\n",
       "        vertical-align: middle;\n",
       "    }\n",
       "\n",
       "    .dataframe tbody tr th {\n",
       "        vertical-align: top;\n",
       "    }\n",
       "\n",
       "    .dataframe thead th {\n",
       "        text-align: right;\n",
       "    }\n",
       "</style>\n",
       "<table border=\"1\" class=\"dataframe\">\n",
       "  <thead>\n",
       "    <tr style=\"text-align: right;\">\n",
       "      <th></th>\n",
       "      <th>CUSTOMER_NAME</th>\n",
       "      <th>CURRENCY_CODE</th>\n",
       "      <th>USD_AMT</th>\n",
       "      <th>INVOICE_CLASS</th>\n",
       "      <th>CUST_SEGMENT</th>\n",
       "      <th>PAY_TERM</th>\n",
       "      <th>DELAYED</th>\n",
       "      <th>CURRENCY_CODE_BHD</th>\n",
       "      <th>CURRENCY_CODE_EUR</th>\n",
       "      <th>CURRENCY_CODE_GBP</th>\n",
       "      <th>CURRENCY_CODE_KWD</th>\n",
       "      <th>CURRENCY_CODE_SAR</th>\n",
       "      <th>CURRENCY_CODE_USD</th>\n",
       "      <th>INVOICE_CLASS_DM</th>\n",
       "      <th>INVOICE_CLASS_INV</th>\n",
       "      <th>CUST_SEGMENT_B</th>\n",
       "      <th>CUST_SEGMENT_C</th>\n",
       "      <th>CUST_SEGMENT_D</th>\n",
       "      <th>CUST_SEGMENT_E</th>\n",
       "    </tr>\n",
       "  </thead>\n",
       "  <tbody>\n",
       "    <tr>\n",
       "      <th>0</th>\n",
       "      <td>C EA Corp</td>\n",
       "      <td>USD</td>\n",
       "      <td>101019</td>\n",
       "      <td>INV</td>\n",
       "      <td>B</td>\n",
       "      <td>58</td>\n",
       "      <td>1</td>\n",
       "      <td>0</td>\n",
       "      <td>0</td>\n",
       "      <td>0</td>\n",
       "      <td>0</td>\n",
       "      <td>0</td>\n",
       "      <td>1</td>\n",
       "      <td>0</td>\n",
       "      <td>1</td>\n",
       "      <td>1</td>\n",
       "      <td>0</td>\n",
       "      <td>0</td>\n",
       "      <td>0</td>\n",
       "    </tr>\n",
       "    <tr>\n",
       "      <th>1</th>\n",
       "      <td>RADW Corp</td>\n",
       "      <td>SAR</td>\n",
       "      <td>48990</td>\n",
       "      <td>INV</td>\n",
       "      <td>E</td>\n",
       "      <td>30</td>\n",
       "      <td>1</td>\n",
       "      <td>0</td>\n",
       "      <td>0</td>\n",
       "      <td>0</td>\n",
       "      <td>0</td>\n",
       "      <td>1</td>\n",
       "      <td>0</td>\n",
       "      <td>0</td>\n",
       "      <td>1</td>\n",
       "      <td>0</td>\n",
       "      <td>0</td>\n",
       "      <td>0</td>\n",
       "      <td>1</td>\n",
       "    </tr>\n",
       "    <tr>\n",
       "      <th>2</th>\n",
       "      <td>RADW Corp</td>\n",
       "      <td>SAR</td>\n",
       "      <td>41992</td>\n",
       "      <td>INV</td>\n",
       "      <td>E</td>\n",
       "      <td>30</td>\n",
       "      <td>0</td>\n",
       "      <td>0</td>\n",
       "      <td>0</td>\n",
       "      <td>0</td>\n",
       "      <td>0</td>\n",
       "      <td>1</td>\n",
       "      <td>0</td>\n",
       "      <td>0</td>\n",
       "      <td>1</td>\n",
       "      <td>0</td>\n",
       "      <td>0</td>\n",
       "      <td>0</td>\n",
       "      <td>1</td>\n",
       "    </tr>\n",
       "    <tr>\n",
       "      <th>3</th>\n",
       "      <td>FARO Corp</td>\n",
       "      <td>SAR</td>\n",
       "      <td>41992</td>\n",
       "      <td>INV</td>\n",
       "      <td>E</td>\n",
       "      <td>30</td>\n",
       "      <td>1</td>\n",
       "      <td>0</td>\n",
       "      <td>0</td>\n",
       "      <td>0</td>\n",
       "      <td>0</td>\n",
       "      <td>1</td>\n",
       "      <td>0</td>\n",
       "      <td>0</td>\n",
       "      <td>1</td>\n",
       "      <td>0</td>\n",
       "      <td>0</td>\n",
       "      <td>0</td>\n",
       "      <td>1</td>\n",
       "    </tr>\n",
       "    <tr>\n",
       "      <th>4</th>\n",
       "      <td>RADW Corp</td>\n",
       "      <td>SAR</td>\n",
       "      <td>41992</td>\n",
       "      <td>INV</td>\n",
       "      <td>E</td>\n",
       "      <td>30</td>\n",
       "      <td>1</td>\n",
       "      <td>0</td>\n",
       "      <td>0</td>\n",
       "      <td>0</td>\n",
       "      <td>0</td>\n",
       "      <td>1</td>\n",
       "      <td>0</td>\n",
       "      <td>0</td>\n",
       "      <td>1</td>\n",
       "      <td>0</td>\n",
       "      <td>0</td>\n",
       "      <td>0</td>\n",
       "      <td>1</td>\n",
       "    </tr>\n",
       "  </tbody>\n",
       "</table>\n",
       "</div>"
      ],
      "text/plain": [
       "  CUSTOMER_NAME CURRENCY_CODE  USD_AMT INVOICE_CLASS CUST_SEGMENT  PAY_TERM  \\\n",
       "0     C EA Corp           USD   101019           INV            B        58   \n",
       "1     RADW Corp           SAR    48990           INV            E        30   \n",
       "2     RADW Corp           SAR    41992           INV            E        30   \n",
       "3     FARO Corp           SAR    41992           INV            E        30   \n",
       "4     RADW Corp           SAR    41992           INV            E        30   \n",
       "\n",
       "   DELAYED  CURRENCY_CODE_BHD  CURRENCY_CODE_EUR  CURRENCY_CODE_GBP  \\\n",
       "0        1                  0                  0                  0   \n",
       "1        1                  0                  0                  0   \n",
       "2        0                  0                  0                  0   \n",
       "3        1                  0                  0                  0   \n",
       "4        1                  0                  0                  0   \n",
       "\n",
       "   CURRENCY_CODE_KWD  CURRENCY_CODE_SAR  CURRENCY_CODE_USD  INVOICE_CLASS_DM  \\\n",
       "0                  0                  0                  1                 0   \n",
       "1                  0                  1                  0                 0   \n",
       "2                  0                  1                  0                 0   \n",
       "3                  0                  1                  0                 0   \n",
       "4                  0                  1                  0                 0   \n",
       "\n",
       "   INVOICE_CLASS_INV  CUST_SEGMENT_B  CUST_SEGMENT_C  CUST_SEGMENT_D  \\\n",
       "0                  1               1               0               0   \n",
       "1                  1               0               0               0   \n",
       "2                  1               0               0               0   \n",
       "3                  1               0               0               0   \n",
       "4                  1               0               0               0   \n",
       "\n",
       "   CUST_SEGMENT_E  \n",
       "0               0  \n",
       "1               1  \n",
       "2               1  \n",
       "3               1  \n",
       "4               1  "
      ]
     },
     "execution_count": 53,
     "metadata": {},
     "output_type": "execute_result"
    }
   ],
   "source": [
    "## Merging with the Original DataFrame \n",
    "reDF=pd.concat([reDF, dum_DF], axis=1)\n",
    "reDF.head()"
   ]
  },
  {
   "cell_type": "markdown",
   "id": "04ab3af4",
   "metadata": {},
   "source": [
    "##### Creating X and Y datasets \n"
   ]
  },
  {
   "cell_type": "code",
   "execution_count": 54,
   "id": "5386c3be",
   "metadata": {},
   "outputs": [],
   "source": [
    "YDF = np.copy(reDF['DELAYED'])\n",
    "XDF = reDF.drop(['CUSTOMER_NAME','CURRENCY_CODE','INVOICE_CLASS','DELAYED','CUST_SEGMENT'],axis=1)"
   ]
  },
  {
   "cell_type": "markdown",
   "id": "6172b730",
   "metadata": {},
   "source": [
    "#### TRAIN TEST SPLIT "
   ]
  },
  {
   "cell_type": "code",
   "execution_count": 55,
   "id": "6a6adf21",
   "metadata": {},
   "outputs": [],
   "source": [
    "from sklearn.model_selection import train_test_split\n",
    "X_train, X_test, y_train, y_test = train_test_split(XDF, YDF, train_size=0.7, test_size=0.3, random_state=45 , stratify=YDF)"
   ]
  },
  {
   "cell_type": "markdown",
   "id": "33e0f9f9",
   "metadata": {},
   "source": [
    "#### Scaling Numerical Variables "
   ]
  },
  {
   "cell_type": "code",
   "execution_count": 56,
   "id": "1db76f78",
   "metadata": {},
   "outputs": [],
   "source": [
    "scaler = StandardScaler()"
   ]
  },
  {
   "cell_type": "code",
   "execution_count": 57,
   "id": "3cde0d74",
   "metadata": {},
   "outputs": [],
   "source": [
    "X_train[['USD_AMT','PAY_TERM']] = scaler.fit_transform(X_train[['USD_AMT','PAY_TERM']])"
   ]
  },
  {
   "cell_type": "code",
   "execution_count": 58,
   "id": "e778b1bc",
   "metadata": {},
   "outputs": [
    {
     "data": {
      "text/html": [
       "<div>\n",
       "<style scoped>\n",
       "    .dataframe tbody tr th:only-of-type {\n",
       "        vertical-align: middle;\n",
       "    }\n",
       "\n",
       "    .dataframe tbody tr th {\n",
       "        vertical-align: top;\n",
       "    }\n",
       "\n",
       "    .dataframe thead th {\n",
       "        text-align: right;\n",
       "    }\n",
       "</style>\n",
       "<table border=\"1\" class=\"dataframe\">\n",
       "  <thead>\n",
       "    <tr style=\"text-align: right;\">\n",
       "      <th></th>\n",
       "      <th>USD_AMT</th>\n",
       "      <th>PAY_TERM</th>\n",
       "      <th>CURRENCY_CODE_BHD</th>\n",
       "      <th>CURRENCY_CODE_EUR</th>\n",
       "      <th>CURRENCY_CODE_GBP</th>\n",
       "      <th>CURRENCY_CODE_KWD</th>\n",
       "      <th>CURRENCY_CODE_SAR</th>\n",
       "      <th>CURRENCY_CODE_USD</th>\n",
       "      <th>INVOICE_CLASS_DM</th>\n",
       "      <th>INVOICE_CLASS_INV</th>\n",
       "      <th>CUST_SEGMENT_B</th>\n",
       "      <th>CUST_SEGMENT_C</th>\n",
       "      <th>CUST_SEGMENT_D</th>\n",
       "      <th>CUST_SEGMENT_E</th>\n",
       "    </tr>\n",
       "  </thead>\n",
       "  <tbody>\n",
       "    <tr>\n",
       "      <th>38121</th>\n",
       "      <td>-0</td>\n",
       "      <td>-1</td>\n",
       "      <td>0</td>\n",
       "      <td>0</td>\n",
       "      <td>0</td>\n",
       "      <td>0</td>\n",
       "      <td>1</td>\n",
       "      <td>0</td>\n",
       "      <td>0</td>\n",
       "      <td>1</td>\n",
       "      <td>0</td>\n",
       "      <td>0</td>\n",
       "      <td>0</td>\n",
       "      <td>0</td>\n",
       "    </tr>\n",
       "    <tr>\n",
       "      <th>32962</th>\n",
       "      <td>0</td>\n",
       "      <td>-1</td>\n",
       "      <td>0</td>\n",
       "      <td>0</td>\n",
       "      <td>0</td>\n",
       "      <td>0</td>\n",
       "      <td>1</td>\n",
       "      <td>0</td>\n",
       "      <td>0</td>\n",
       "      <td>1</td>\n",
       "      <td>0</td>\n",
       "      <td>0</td>\n",
       "      <td>0</td>\n",
       "      <td>1</td>\n",
       "    </tr>\n",
       "    <tr>\n",
       "      <th>6236</th>\n",
       "      <td>-1</td>\n",
       "      <td>-0</td>\n",
       "      <td>0</td>\n",
       "      <td>0</td>\n",
       "      <td>0</td>\n",
       "      <td>0</td>\n",
       "      <td>0</td>\n",
       "      <td>0</td>\n",
       "      <td>0</td>\n",
       "      <td>1</td>\n",
       "      <td>0</td>\n",
       "      <td>0</td>\n",
       "      <td>0</td>\n",
       "      <td>0</td>\n",
       "    </tr>\n",
       "    <tr>\n",
       "      <th>62776</th>\n",
       "      <td>-1</td>\n",
       "      <td>0</td>\n",
       "      <td>0</td>\n",
       "      <td>0</td>\n",
       "      <td>0</td>\n",
       "      <td>0</td>\n",
       "      <td>0</td>\n",
       "      <td>1</td>\n",
       "      <td>0</td>\n",
       "      <td>1</td>\n",
       "      <td>0</td>\n",
       "      <td>0</td>\n",
       "      <td>0</td>\n",
       "      <td>0</td>\n",
       "    </tr>\n",
       "    <tr>\n",
       "      <th>102</th>\n",
       "      <td>-0</td>\n",
       "      <td>0</td>\n",
       "      <td>0</td>\n",
       "      <td>0</td>\n",
       "      <td>0</td>\n",
       "      <td>0</td>\n",
       "      <td>0</td>\n",
       "      <td>0</td>\n",
       "      <td>0</td>\n",
       "      <td>1</td>\n",
       "      <td>0</td>\n",
       "      <td>0</td>\n",
       "      <td>0</td>\n",
       "      <td>1</td>\n",
       "    </tr>\n",
       "  </tbody>\n",
       "</table>\n",
       "</div>"
      ],
      "text/plain": [
       "       USD_AMT  PAY_TERM  CURRENCY_CODE_BHD  CURRENCY_CODE_EUR  \\\n",
       "38121       -0        -1                  0                  0   \n",
       "32962        0        -1                  0                  0   \n",
       "6236        -1        -0                  0                  0   \n",
       "62776       -1         0                  0                  0   \n",
       "102         -0         0                  0                  0   \n",
       "\n",
       "       CURRENCY_CODE_GBP  CURRENCY_CODE_KWD  CURRENCY_CODE_SAR  \\\n",
       "38121                  0                  0                  1   \n",
       "32962                  0                  0                  1   \n",
       "6236                   0                  0                  0   \n",
       "62776                  0                  0                  0   \n",
       "102                    0                  0                  0   \n",
       "\n",
       "       CURRENCY_CODE_USD  INVOICE_CLASS_DM  INVOICE_CLASS_INV  CUST_SEGMENT_B  \\\n",
       "38121                  0                 0                  1               0   \n",
       "32962                  0                 0                  1               0   \n",
       "6236                   0                 0                  1               0   \n",
       "62776                  1                 0                  1               0   \n",
       "102                    0                 0                  1               0   \n",
       "\n",
       "       CUST_SEGMENT_C  CUST_SEGMENT_D  CUST_SEGMENT_E  \n",
       "38121               0               0               0  \n",
       "32962               0               0               1  \n",
       "6236                0               0               0  \n",
       "62776               0               0               0  \n",
       "102                 0               0               1  "
      ]
     },
     "execution_count": 58,
     "metadata": {},
     "output_type": "execute_result"
    }
   ],
   "source": [
    "X_train.head()"
   ]
  },
  {
   "cell_type": "code",
   "execution_count": 59,
   "id": "290dc7cd",
   "metadata": {},
   "outputs": [
    {
     "data": {
      "text/plain": [
       "((54479,), (23349,))"
      ]
     },
     "execution_count": 59,
     "metadata": {},
     "output_type": "execute_result"
    }
   ],
   "source": [
    "y_train.shape, y_test.shape"
   ]
  },
  {
   "cell_type": "code",
   "execution_count": 60,
   "id": "5e8902da",
   "metadata": {},
   "outputs": [
    {
     "data": {
      "text/plain": [
       "((54479, 14), (23349, 14))"
      ]
     },
     "execution_count": 60,
     "metadata": {},
     "output_type": "execute_result"
    }
   ],
   "source": [
    "X_train.shape, X_test.shape"
   ]
  },
  {
   "cell_type": "code",
   "execution_count": null,
   "id": "f3d3661a",
   "metadata": {},
   "outputs": [],
   "source": []
  },
  {
   "cell_type": "markdown",
   "id": "82084332",
   "metadata": {},
   "source": [
    "### USING RANDOM FOREST CLASSIFIER"
   ]
  },
  {
   "cell_type": "code",
   "execution_count": 61,
   "id": "940ca6c7",
   "metadata": {},
   "outputs": [],
   "source": [
    "from sklearn.ensemble import RandomForestClassifier\n",
    "from sklearn.metrics import accuracy_score, confusion_matrix, classification_report\n",
    "from sklearn.model_selection import GridSearchCV"
   ]
  },
  {
   "cell_type": "code",
   "execution_count": 62,
   "id": "90bfcb0b",
   "metadata": {},
   "outputs": [],
   "source": [
    "rf = RandomForestClassifier(n_estimators=5, max_depth=4, max_features=5, random_state=45, oob_score=True, n_jobs=-1)"
   ]
  },
  {
   "cell_type": "code",
   "execution_count": 63,
   "id": "fdf13e5b",
   "metadata": {},
   "outputs": [],
   "source": [
    "hyper_parameters = {'min_samples_leaf': [5, 10, 20, 50],\n",
    "                    'n_estimators': [10, 20, 30],\n",
    "                    'max_features': [6, 8, 10, 12]    \n",
    "}"
   ]
  },
  {
   "cell_type": "code",
   "execution_count": 64,
   "id": "7ce67375",
   "metadata": {},
   "outputs": [],
   "source": [
    "model_GSCV = GridSearchCV(estimator=rf,\n",
    "                        param_grid=hyper_parameters,\n",
    "                        verbose=1,scoring=\"accuracy\",\n",
    "                        cv=5,\n",
    "                        return_train_score=True,\n",
    "                        n_jobs=-1)"
   ]
  },
  {
   "cell_type": "code",
   "execution_count": 65,
   "id": "073eeb99",
   "metadata": {},
   "outputs": [
    {
     "name": "stdout",
     "output_type": "stream",
     "text": [
      "Fitting 5 folds for each of 48 candidates, totalling 240 fits\n"
     ]
    },
    {
     "data": {
      "text/html": [
       "<style>#sk-container-id-2 {color: black;background-color: white;}#sk-container-id-2 pre{padding: 0;}#sk-container-id-2 div.sk-toggleable {background-color: white;}#sk-container-id-2 label.sk-toggleable__label {cursor: pointer;display: block;width: 100%;margin-bottom: 0;padding: 0.3em;box-sizing: border-box;text-align: center;}#sk-container-id-2 label.sk-toggleable__label-arrow:before {content: \"▸\";float: left;margin-right: 0.25em;color: #696969;}#sk-container-id-2 label.sk-toggleable__label-arrow:hover:before {color: black;}#sk-container-id-2 div.sk-estimator:hover label.sk-toggleable__label-arrow:before {color: black;}#sk-container-id-2 div.sk-toggleable__content {max-height: 0;max-width: 0;overflow: hidden;text-align: left;background-color: #f0f8ff;}#sk-container-id-2 div.sk-toggleable__content pre {margin: 0.2em;color: black;border-radius: 0.25em;background-color: #f0f8ff;}#sk-container-id-2 input.sk-toggleable__control:checked~div.sk-toggleable__content {max-height: 200px;max-width: 100%;overflow: auto;}#sk-container-id-2 input.sk-toggleable__control:checked~label.sk-toggleable__label-arrow:before {content: \"▾\";}#sk-container-id-2 div.sk-estimator input.sk-toggleable__control:checked~label.sk-toggleable__label {background-color: #d4ebff;}#sk-container-id-2 div.sk-label input.sk-toggleable__control:checked~label.sk-toggleable__label {background-color: #d4ebff;}#sk-container-id-2 input.sk-hidden--visually {border: 0;clip: rect(1px 1px 1px 1px);clip: rect(1px, 1px, 1px, 1px);height: 1px;margin: -1px;overflow: hidden;padding: 0;position: absolute;width: 1px;}#sk-container-id-2 div.sk-estimator {font-family: monospace;background-color: #f0f8ff;border: 1px dotted black;border-radius: 0.25em;box-sizing: border-box;margin-bottom: 0.5em;}#sk-container-id-2 div.sk-estimator:hover {background-color: #d4ebff;}#sk-container-id-2 div.sk-parallel-item::after {content: \"\";width: 100%;border-bottom: 1px solid gray;flex-grow: 1;}#sk-container-id-2 div.sk-label:hover label.sk-toggleable__label {background-color: #d4ebff;}#sk-container-id-2 div.sk-serial::before {content: \"\";position: absolute;border-left: 1px solid gray;box-sizing: border-box;top: 0;bottom: 0;left: 50%;z-index: 0;}#sk-container-id-2 div.sk-serial {display: flex;flex-direction: column;align-items: center;background-color: white;padding-right: 0.2em;padding-left: 0.2em;position: relative;}#sk-container-id-2 div.sk-item {position: relative;z-index: 1;}#sk-container-id-2 div.sk-parallel {display: flex;align-items: stretch;justify-content: center;background-color: white;position: relative;}#sk-container-id-2 div.sk-item::before, #sk-container-id-2 div.sk-parallel-item::before {content: \"\";position: absolute;border-left: 1px solid gray;box-sizing: border-box;top: 0;bottom: 0;left: 50%;z-index: -1;}#sk-container-id-2 div.sk-parallel-item {display: flex;flex-direction: column;z-index: 1;position: relative;background-color: white;}#sk-container-id-2 div.sk-parallel-item:first-child::after {align-self: flex-end;width: 50%;}#sk-container-id-2 div.sk-parallel-item:last-child::after {align-self: flex-start;width: 50%;}#sk-container-id-2 div.sk-parallel-item:only-child::after {width: 0;}#sk-container-id-2 div.sk-dashed-wrapped {border: 1px dashed gray;margin: 0 0.4em 0.5em 0.4em;box-sizing: border-box;padding-bottom: 0.4em;background-color: white;}#sk-container-id-2 div.sk-label label {font-family: monospace;font-weight: bold;display: inline-block;line-height: 1.2em;}#sk-container-id-2 div.sk-label-container {text-align: center;}#sk-container-id-2 div.sk-container {/* jupyter's `normalize.less` sets `[hidden] { display: none; }` but bootstrap.min.css set `[hidden] { display: none !important; }` so we also need the `!important` here to be able to override the default hidden behavior on the sphinx rendered scikit-learn.org. See: https://github.com/scikit-learn/scikit-learn/issues/21755 */display: inline-block !important;position: relative;}#sk-container-id-2 div.sk-text-repr-fallback {display: none;}</style><div id=\"sk-container-id-2\" class=\"sk-top-container\"><div class=\"sk-text-repr-fallback\"><pre>GridSearchCV(cv=5,\n",
       "             estimator=RandomForestClassifier(max_depth=4, max_features=5,\n",
       "                                              n_estimators=5, n_jobs=-1,\n",
       "                                              oob_score=True, random_state=45),\n",
       "             n_jobs=-1,\n",
       "             param_grid={&#x27;max_features&#x27;: [6, 8, 10, 12],\n",
       "                         &#x27;min_samples_leaf&#x27;: [5, 10, 20, 50],\n",
       "                         &#x27;n_estimators&#x27;: [10, 20, 30]},\n",
       "             return_train_score=True, scoring=&#x27;accuracy&#x27;, verbose=1)</pre><b>In a Jupyter environment, please rerun this cell to show the HTML representation or trust the notebook. <br />On GitHub, the HTML representation is unable to render, please try loading this page with nbviewer.org.</b></div><div class=\"sk-container\" hidden><div class=\"sk-item sk-dashed-wrapped\"><div class=\"sk-label-container\"><div class=\"sk-label sk-toggleable\"><input class=\"sk-toggleable__control sk-hidden--visually\" id=\"sk-estimator-id-2\" type=\"checkbox\" ><label for=\"sk-estimator-id-2\" class=\"sk-toggleable__label sk-toggleable__label-arrow\">GridSearchCV</label><div class=\"sk-toggleable__content\"><pre>GridSearchCV(cv=5,\n",
       "             estimator=RandomForestClassifier(max_depth=4, max_features=5,\n",
       "                                              n_estimators=5, n_jobs=-1,\n",
       "                                              oob_score=True, random_state=45),\n",
       "             n_jobs=-1,\n",
       "             param_grid={&#x27;max_features&#x27;: [6, 8, 10, 12],\n",
       "                         &#x27;min_samples_leaf&#x27;: [5, 10, 20, 50],\n",
       "                         &#x27;n_estimators&#x27;: [10, 20, 30]},\n",
       "             return_train_score=True, scoring=&#x27;accuracy&#x27;, verbose=1)</pre></div></div></div><div class=\"sk-parallel\"><div class=\"sk-parallel-item\"><div class=\"sk-item\"><div class=\"sk-label-container\"><div class=\"sk-label sk-toggleable\"><input class=\"sk-toggleable__control sk-hidden--visually\" id=\"sk-estimator-id-3\" type=\"checkbox\" ><label for=\"sk-estimator-id-3\" class=\"sk-toggleable__label sk-toggleable__label-arrow\">estimator: RandomForestClassifier</label><div class=\"sk-toggleable__content\"><pre>RandomForestClassifier(max_depth=4, max_features=5, n_estimators=5, n_jobs=-1,\n",
       "                       oob_score=True, random_state=45)</pre></div></div></div><div class=\"sk-serial\"><div class=\"sk-item\"><div class=\"sk-estimator sk-toggleable\"><input class=\"sk-toggleable__control sk-hidden--visually\" id=\"sk-estimator-id-4\" type=\"checkbox\" ><label for=\"sk-estimator-id-4\" class=\"sk-toggleable__label sk-toggleable__label-arrow\">RandomForestClassifier</label><div class=\"sk-toggleable__content\"><pre>RandomForestClassifier(max_depth=4, max_features=5, n_estimators=5, n_jobs=-1,\n",
       "                       oob_score=True, random_state=45)</pre></div></div></div></div></div></div></div></div></div></div>"
      ],
      "text/plain": [
       "GridSearchCV(cv=5,\n",
       "             estimator=RandomForestClassifier(max_depth=4, max_features=5,\n",
       "                                              n_estimators=5, n_jobs=-1,\n",
       "                                              oob_score=True, random_state=45),\n",
       "             n_jobs=-1,\n",
       "             param_grid={'max_features': [6, 8, 10, 12],\n",
       "                         'min_samples_leaf': [5, 10, 20, 50],\n",
       "                         'n_estimators': [10, 20, 30]},\n",
       "             return_train_score=True, scoring='accuracy', verbose=1)"
      ]
     },
     "execution_count": 65,
     "metadata": {},
     "output_type": "execute_result"
    }
   ],
   "source": [
    "model_GSCV.fit(X_train, y_train)"
   ]
  },
  {
   "cell_type": "code",
   "execution_count": 66,
   "id": "f18e5c81",
   "metadata": {},
   "outputs": [
    {
     "data": {
      "text/plain": [
       "0.7417536604580232"
      ]
     },
     "execution_count": 66,
     "metadata": {},
     "output_type": "execute_result"
    }
   ],
   "source": [
    "model_GSCV.best_score_"
   ]
  },
  {
   "cell_type": "code",
   "execution_count": 67,
   "id": "f8ffa097",
   "metadata": {},
   "outputs": [],
   "source": [
    "rf_best = model_GSCV.best_estimator_"
   ]
  },
  {
   "cell_type": "code",
   "execution_count": 68,
   "id": "3fe9e6f2",
   "metadata": {},
   "outputs": [
    {
     "data": {
      "text/html": [
       "<style>#sk-container-id-3 {color: black;background-color: white;}#sk-container-id-3 pre{padding: 0;}#sk-container-id-3 div.sk-toggleable {background-color: white;}#sk-container-id-3 label.sk-toggleable__label {cursor: pointer;display: block;width: 100%;margin-bottom: 0;padding: 0.3em;box-sizing: border-box;text-align: center;}#sk-container-id-3 label.sk-toggleable__label-arrow:before {content: \"▸\";float: left;margin-right: 0.25em;color: #696969;}#sk-container-id-3 label.sk-toggleable__label-arrow:hover:before {color: black;}#sk-container-id-3 div.sk-estimator:hover label.sk-toggleable__label-arrow:before {color: black;}#sk-container-id-3 div.sk-toggleable__content {max-height: 0;max-width: 0;overflow: hidden;text-align: left;background-color: #f0f8ff;}#sk-container-id-3 div.sk-toggleable__content pre {margin: 0.2em;color: black;border-radius: 0.25em;background-color: #f0f8ff;}#sk-container-id-3 input.sk-toggleable__control:checked~div.sk-toggleable__content {max-height: 200px;max-width: 100%;overflow: auto;}#sk-container-id-3 input.sk-toggleable__control:checked~label.sk-toggleable__label-arrow:before {content: \"▾\";}#sk-container-id-3 div.sk-estimator input.sk-toggleable__control:checked~label.sk-toggleable__label {background-color: #d4ebff;}#sk-container-id-3 div.sk-label input.sk-toggleable__control:checked~label.sk-toggleable__label {background-color: #d4ebff;}#sk-container-id-3 input.sk-hidden--visually {border: 0;clip: rect(1px 1px 1px 1px);clip: rect(1px, 1px, 1px, 1px);height: 1px;margin: -1px;overflow: hidden;padding: 0;position: absolute;width: 1px;}#sk-container-id-3 div.sk-estimator {font-family: monospace;background-color: #f0f8ff;border: 1px dotted black;border-radius: 0.25em;box-sizing: border-box;margin-bottom: 0.5em;}#sk-container-id-3 div.sk-estimator:hover {background-color: #d4ebff;}#sk-container-id-3 div.sk-parallel-item::after {content: \"\";width: 100%;border-bottom: 1px solid gray;flex-grow: 1;}#sk-container-id-3 div.sk-label:hover label.sk-toggleable__label {background-color: #d4ebff;}#sk-container-id-3 div.sk-serial::before {content: \"\";position: absolute;border-left: 1px solid gray;box-sizing: border-box;top: 0;bottom: 0;left: 50%;z-index: 0;}#sk-container-id-3 div.sk-serial {display: flex;flex-direction: column;align-items: center;background-color: white;padding-right: 0.2em;padding-left: 0.2em;position: relative;}#sk-container-id-3 div.sk-item {position: relative;z-index: 1;}#sk-container-id-3 div.sk-parallel {display: flex;align-items: stretch;justify-content: center;background-color: white;position: relative;}#sk-container-id-3 div.sk-item::before, #sk-container-id-3 div.sk-parallel-item::before {content: \"\";position: absolute;border-left: 1px solid gray;box-sizing: border-box;top: 0;bottom: 0;left: 50%;z-index: -1;}#sk-container-id-3 div.sk-parallel-item {display: flex;flex-direction: column;z-index: 1;position: relative;background-color: white;}#sk-container-id-3 div.sk-parallel-item:first-child::after {align-self: flex-end;width: 50%;}#sk-container-id-3 div.sk-parallel-item:last-child::after {align-self: flex-start;width: 50%;}#sk-container-id-3 div.sk-parallel-item:only-child::after {width: 0;}#sk-container-id-3 div.sk-dashed-wrapped {border: 1px dashed gray;margin: 0 0.4em 0.5em 0.4em;box-sizing: border-box;padding-bottom: 0.4em;background-color: white;}#sk-container-id-3 div.sk-label label {font-family: monospace;font-weight: bold;display: inline-block;line-height: 1.2em;}#sk-container-id-3 div.sk-label-container {text-align: center;}#sk-container-id-3 div.sk-container {/* jupyter's `normalize.less` sets `[hidden] { display: none; }` but bootstrap.min.css set `[hidden] { display: none !important; }` so we also need the `!important` here to be able to override the default hidden behavior on the sphinx rendered scikit-learn.org. See: https://github.com/scikit-learn/scikit-learn/issues/21755 */display: inline-block !important;position: relative;}#sk-container-id-3 div.sk-text-repr-fallback {display: none;}</style><div id=\"sk-container-id-3\" class=\"sk-top-container\"><div class=\"sk-text-repr-fallback\"><pre>RandomForestClassifier(max_depth=4, max_features=6, min_samples_leaf=10,\n",
       "                       n_estimators=30, n_jobs=-1, oob_score=True,\n",
       "                       random_state=45)</pre><b>In a Jupyter environment, please rerun this cell to show the HTML representation or trust the notebook. <br />On GitHub, the HTML representation is unable to render, please try loading this page with nbviewer.org.</b></div><div class=\"sk-container\" hidden><div class=\"sk-item\"><div class=\"sk-estimator sk-toggleable\"><input class=\"sk-toggleable__control sk-hidden--visually\" id=\"sk-estimator-id-5\" type=\"checkbox\" checked><label for=\"sk-estimator-id-5\" class=\"sk-toggleable__label sk-toggleable__label-arrow\">RandomForestClassifier</label><div class=\"sk-toggleable__content\"><pre>RandomForestClassifier(max_depth=4, max_features=6, min_samples_leaf=10,\n",
       "                       n_estimators=30, n_jobs=-1, oob_score=True,\n",
       "                       random_state=45)</pre></div></div></div></div></div>"
      ],
      "text/plain": [
       "RandomForestClassifier(max_depth=4, max_features=6, min_samples_leaf=10,\n",
       "                       n_estimators=30, n_jobs=-1, oob_score=True,\n",
       "                       random_state=45)"
      ]
     },
     "execution_count": 68,
     "metadata": {},
     "output_type": "execute_result"
    }
   ],
   "source": [
    "rf_best"
   ]
  },
  {
   "cell_type": "code",
   "execution_count": 69,
   "id": "b430a3e7",
   "metadata": {},
   "outputs": [],
   "source": [
    "y_train_pred = rf_best.predict(X_train)"
   ]
  },
  {
   "cell_type": "code",
   "execution_count": 70,
   "id": "ebda0a0f",
   "metadata": {},
   "outputs": [
    {
     "data": {
      "text/plain": [
       "0.7406156500669983"
      ]
     },
     "execution_count": 70,
     "metadata": {},
     "output_type": "execute_result"
    }
   ],
   "source": [
    "accuracy_score(y_train, y_train_pred)"
   ]
  },
  {
   "cell_type": "code",
   "execution_count": null,
   "id": "7a41cb13",
   "metadata": {},
   "outputs": [],
   "source": []
  },
  {
   "cell_type": "markdown",
   "id": "6341bb20",
   "metadata": {},
   "source": [
    "#### Predicting the Test Set "
   ]
  },
  {
   "cell_type": "code",
   "execution_count": 71,
   "id": "69f2075a",
   "metadata": {},
   "outputs": [],
   "source": [
    "y_test_pred = rf_best.predict(X_test)"
   ]
  },
  {
   "cell_type": "code",
   "execution_count": 72,
   "id": "fcb9be4e",
   "metadata": {},
   "outputs": [
    {
     "data": {
      "text/plain": [
       "0.6091053150027839"
      ]
     },
     "execution_count": 72,
     "metadata": {},
     "output_type": "execute_result"
    }
   ],
   "source": [
    "accuracy_score(y_test, y_test_pred)"
   ]
  },
  {
   "cell_type": "code",
   "execution_count": 73,
   "id": "d3255ed7",
   "metadata": {},
   "outputs": [
    {
     "data": {
      "text/plain": [
       "array([[12339,  8582],\n",
       "       [ 5549, 28009]], dtype=int64)"
      ]
     },
     "execution_count": 73,
     "metadata": {},
     "output_type": "execute_result"
    }
   ],
   "source": [
    "conf_Test = confusion_matrix(y_train, y_train_pred)\n",
    "conf_Test"
   ]
  },
  {
   "cell_type": "code",
   "execution_count": 74,
   "id": "f28d39a0",
   "metadata": {},
   "outputs": [],
   "source": [
    "#True Positives\n",
    "TP = conf_Test[1,1]\n",
    "#True Negative\n",
    "TN = conf_Test[0,0]\n",
    "#False Positives\n",
    "FP = conf_Test[0,1] \n",
    "#False Negatives\n",
    "FN = conf_Test[1,0]"
   ]
  },
  {
   "cell_type": "code",
   "execution_count": 75,
   "id": "947f8a2e",
   "metadata": {},
   "outputs": [
    {
     "name": "stdout",
     "output_type": "stream",
     "text": [
      "Specificity:0.5897901629941208 Sensitivity:0.8346444960963109 Precision:0.7654614522696838 Recall:0.8346444960963109\n"
     ]
    }
   ],
   "source": [
    "#Sensitivity\n",
    "SN = TP/(TP+FN)\n",
    "#Specificity\n",
    "SP = TN/(TN+FP)\n",
    "##Precision\n",
    "PR = TP / (TP + FP)\n",
    "### Recall \n",
    "RL = TP / (TP + FN) \n",
    "\n",
    "print(f\"Specificity:{SP} Sensitivity:{SN} Precision:{PR} Recall:{RL}\" )"
   ]
  },
  {
   "cell_type": "code",
   "execution_count": 76,
   "id": "d7b5904e",
   "metadata": {},
   "outputs": [
    {
     "name": "stdout",
     "output_type": "stream",
     "text": [
      "              precision    recall  f1-score   support\n",
      "\n",
      "           0       0.69      0.59      0.64     20921\n",
      "           1       0.77      0.83      0.80     33558\n",
      "\n",
      "    accuracy                           0.74     54479\n",
      "   macro avg       0.73      0.71      0.72     54479\n",
      "weighted avg       0.74      0.74      0.74     54479\n",
      "\n"
     ]
    }
   ],
   "source": [
    "print(classification_report(y_train, y_train_pred))"
   ]
  },
  {
   "cell_type": "code",
   "execution_count": 77,
   "id": "5ed949a6",
   "metadata": {},
   "outputs": [
    {
     "data": {
      "text/plain": [
       "{'max_features': 6, 'min_samples_leaf': 10, 'n_estimators': 30}"
      ]
     },
     "execution_count": 77,
     "metadata": {},
     "output_type": "execute_result"
    }
   ],
   "source": [
    "model_GSCV.best_params_"
   ]
  },
  {
   "cell_type": "code",
   "execution_count": 78,
   "id": "58653e1c",
   "metadata": {},
   "outputs": [],
   "source": [
    "imp_df = pd.DataFrame({\n",
    "    \"Varname\": X_train.columns,\n",
    "    \"Imp\": rf_best.feature_importances_\n",
    "})"
   ]
  },
  {
   "cell_type": "code",
   "execution_count": 79,
   "id": "b98143bf",
   "metadata": {},
   "outputs": [
    {
     "data": {
      "text/html": [
       "<div>\n",
       "<style scoped>\n",
       "    .dataframe tbody tr th:only-of-type {\n",
       "        vertical-align: middle;\n",
       "    }\n",
       "\n",
       "    .dataframe tbody tr th {\n",
       "        vertical-align: top;\n",
       "    }\n",
       "\n",
       "    .dataframe thead th {\n",
       "        text-align: right;\n",
       "    }\n",
       "</style>\n",
       "<table border=\"1\" class=\"dataframe\">\n",
       "  <thead>\n",
       "    <tr style=\"text-align: right;\">\n",
       "      <th></th>\n",
       "      <th>Varname</th>\n",
       "      <th>Imp</th>\n",
       "    </tr>\n",
       "  </thead>\n",
       "  <tbody>\n",
       "    <tr>\n",
       "      <th>1</th>\n",
       "      <td>PAY_TERM</td>\n",
       "      <td>0</td>\n",
       "    </tr>\n",
       "    <tr>\n",
       "      <th>6</th>\n",
       "      <td>CURRENCY_CODE_SAR</td>\n",
       "      <td>0</td>\n",
       "    </tr>\n",
       "    <tr>\n",
       "      <th>0</th>\n",
       "      <td>USD_AMT</td>\n",
       "      <td>0</td>\n",
       "    </tr>\n",
       "    <tr>\n",
       "      <th>7</th>\n",
       "      <td>CURRENCY_CODE_USD</td>\n",
       "      <td>0</td>\n",
       "    </tr>\n",
       "    <tr>\n",
       "      <th>12</th>\n",
       "      <td>CUST_SEGMENT_D</td>\n",
       "      <td>0</td>\n",
       "    </tr>\n",
       "    <tr>\n",
       "      <th>13</th>\n",
       "      <td>CUST_SEGMENT_E</td>\n",
       "      <td>0</td>\n",
       "    </tr>\n",
       "    <tr>\n",
       "      <th>10</th>\n",
       "      <td>CUST_SEGMENT_B</td>\n",
       "      <td>0</td>\n",
       "    </tr>\n",
       "    <tr>\n",
       "      <th>11</th>\n",
       "      <td>CUST_SEGMENT_C</td>\n",
       "      <td>0</td>\n",
       "    </tr>\n",
       "    <tr>\n",
       "      <th>3</th>\n",
       "      <td>CURRENCY_CODE_EUR</td>\n",
       "      <td>0</td>\n",
       "    </tr>\n",
       "    <tr>\n",
       "      <th>9</th>\n",
       "      <td>INVOICE_CLASS_INV</td>\n",
       "      <td>0</td>\n",
       "    </tr>\n",
       "    <tr>\n",
       "      <th>2</th>\n",
       "      <td>CURRENCY_CODE_BHD</td>\n",
       "      <td>0</td>\n",
       "    </tr>\n",
       "    <tr>\n",
       "      <th>4</th>\n",
       "      <td>CURRENCY_CODE_GBP</td>\n",
       "      <td>0</td>\n",
       "    </tr>\n",
       "    <tr>\n",
       "      <th>5</th>\n",
       "      <td>CURRENCY_CODE_KWD</td>\n",
       "      <td>0</td>\n",
       "    </tr>\n",
       "    <tr>\n",
       "      <th>8</th>\n",
       "      <td>INVOICE_CLASS_DM</td>\n",
       "      <td>0</td>\n",
       "    </tr>\n",
       "  </tbody>\n",
       "</table>\n",
       "</div>"
      ],
      "text/plain": [
       "              Varname  Imp\n",
       "1            PAY_TERM    0\n",
       "6   CURRENCY_CODE_SAR    0\n",
       "0             USD_AMT    0\n",
       "7   CURRENCY_CODE_USD    0\n",
       "12     CUST_SEGMENT_D    0\n",
       "13     CUST_SEGMENT_E    0\n",
       "10     CUST_SEGMENT_B    0\n",
       "11     CUST_SEGMENT_C    0\n",
       "3   CURRENCY_CODE_EUR    0\n",
       "9   INVOICE_CLASS_INV    0\n",
       "2   CURRENCY_CODE_BHD    0\n",
       "4   CURRENCY_CODE_GBP    0\n",
       "5   CURRENCY_CODE_KWD    0\n",
       "8    INVOICE_CLASS_DM    0"
      ]
     },
     "execution_count": 79,
     "metadata": {},
     "output_type": "execute_result"
    }
   ],
   "source": [
    "imp_df.sort_values(by=\"Imp\", ascending=False)"
   ]
  },
  {
   "cell_type": "markdown",
   "id": "59371a85",
   "metadata": {},
   "source": [
    "### Prepare INVOICE DATA FOR Prediction "
   ]
  },
  {
   "cell_type": "code",
   "execution_count": 80,
   "id": "a411d8f4",
   "metadata": {},
   "outputs": [],
   "source": [
    "invData = pd.read_csv(\"open_invoice_data.csv\" , encoding = \"ISO-8859-1\")"
   ]
  },
  {
   "cell_type": "code",
   "execution_count": 81,
   "id": "edf8ca2a",
   "metadata": {},
   "outputs": [
    {
     "data": {
      "text/plain": [
       "(88204, 14)"
      ]
     },
     "execution_count": 81,
     "metadata": {},
     "output_type": "execute_result"
    }
   ],
   "source": [
    "invData.shape"
   ]
  },
  {
   "cell_type": "code",
   "execution_count": 82,
   "id": "2844f6da",
   "metadata": {},
   "outputs": [
    {
     "data": {
      "text/html": [
       "<div>\n",
       "<style scoped>\n",
       "    .dataframe tbody tr th:only-of-type {\n",
       "        vertical-align: middle;\n",
       "    }\n",
       "\n",
       "    .dataframe tbody tr th {\n",
       "        vertical-align: top;\n",
       "    }\n",
       "\n",
       "    .dataframe thead th {\n",
       "        text-align: right;\n",
       "    }\n",
       "</style>\n",
       "<table border=\"1\" class=\"dataframe\">\n",
       "  <thead>\n",
       "    <tr style=\"text-align: right;\">\n",
       "      <th></th>\n",
       "      <th>AS_OF_DATE</th>\n",
       "      <th>Customer Type</th>\n",
       "      <th>Customer_Name</th>\n",
       "      <th>Customer Account No</th>\n",
       "      <th>Transaction Number</th>\n",
       "      <th>Transaction Date</th>\n",
       "      <th>Payment Term</th>\n",
       "      <th>Due Date</th>\n",
       "      <th>Transaction Currency</th>\n",
       "      <th>Local Amount</th>\n",
       "      <th>Transaction Class</th>\n",
       "      <th>AGE</th>\n",
       "      <th>USD Amount</th>\n",
       "      <th>INV_CREATION_DATE</th>\n",
       "    </tr>\n",
       "  </thead>\n",
       "  <tbody>\n",
       "    <tr>\n",
       "      <th>0</th>\n",
       "      <td>04-APR-2022 01:07:01</td>\n",
       "      <td>3rd Party</td>\n",
       "      <td>GIVE Corp</td>\n",
       "      <td>49144</td>\n",
       "      <td>100210000438</td>\n",
       "      <td>21/12/2021</td>\n",
       "      <td>Immediate</td>\n",
       "      <td>21/12/2021</td>\n",
       "      <td>AED</td>\n",
       "      <td>-3,088</td>\n",
       "      <td>CREDIT NOTE</td>\n",
       "      <td>105</td>\n",
       "      <td>-3,088</td>\n",
       "      <td>12/21/2021 12:53</td>\n",
       "    </tr>\n",
       "    <tr>\n",
       "      <th>1</th>\n",
       "      <td>04-APR-2022 01:07:01</td>\n",
       "      <td>Related Party</td>\n",
       "      <td>AL J Corp</td>\n",
       "      <td>23152</td>\n",
       "      <td>100220000052</td>\n",
       "      <td>01/02/2022</td>\n",
       "      <td>30 Days from Inv Date</td>\n",
       "      <td>03/03/2022</td>\n",
       "      <td>USD</td>\n",
       "      <td>2,000</td>\n",
       "      <td>INVOICE</td>\n",
       "      <td>33</td>\n",
       "      <td>2,000</td>\n",
       "      <td>2/1/2022 14:09</td>\n",
       "    </tr>\n",
       "    <tr>\n",
       "      <th>2</th>\n",
       "      <td>04-APR-2022 01:07:01</td>\n",
       "      <td>Related Party</td>\n",
       "      <td>AL J Corp</td>\n",
       "      <td>23152</td>\n",
       "      <td>100220000143</td>\n",
       "      <td>24/03/2022</td>\n",
       "      <td>30 Days from Inv Date</td>\n",
       "      <td>23/04/2022</td>\n",
       "      <td>USD</td>\n",
       "      <td>2,000</td>\n",
       "      <td>INVOICE</td>\n",
       "      <td>-18</td>\n",
       "      <td>2,000</td>\n",
       "      <td>3/24/2022 17:46</td>\n",
       "    </tr>\n",
       "    <tr>\n",
       "      <th>3</th>\n",
       "      <td>04-APR-2022 01:07:01</td>\n",
       "      <td>Related Party</td>\n",
       "      <td>AL R Corp</td>\n",
       "      <td>23312</td>\n",
       "      <td>100220000001</td>\n",
       "      <td>04/01/2022</td>\n",
       "      <td>15 Days from Inv Date</td>\n",
       "      <td>19/01/2022</td>\n",
       "      <td>AED</td>\n",
       "      <td>2,415</td>\n",
       "      <td>INVOICE</td>\n",
       "      <td>76</td>\n",
       "      <td>2,415</td>\n",
       "      <td>1/5/2022 11:49</td>\n",
       "    </tr>\n",
       "    <tr>\n",
       "      <th>4</th>\n",
       "      <td>04-APR-2022 01:07:01</td>\n",
       "      <td>Related Party</td>\n",
       "      <td>ALLI Corp</td>\n",
       "      <td>7530</td>\n",
       "      <td>100220000105</td>\n",
       "      <td>03/03/2022</td>\n",
       "      <td>30 Days from EOM</td>\n",
       "      <td>30/04/2022</td>\n",
       "      <td>AED</td>\n",
       "      <td>3,800</td>\n",
       "      <td>INVOICE</td>\n",
       "      <td>-25</td>\n",
       "      <td>3,800</td>\n",
       "      <td>3/3/2022 22:30</td>\n",
       "    </tr>\n",
       "  </tbody>\n",
       "</table>\n",
       "</div>"
      ],
      "text/plain": [
       "             AS_OF_DATE  Customer Type Customer_Name  Customer Account No  \\\n",
       "0  04-APR-2022 01:07:01      3rd Party     GIVE Corp                49144   \n",
       "1  04-APR-2022 01:07:01  Related Party     AL J Corp                23152   \n",
       "2  04-APR-2022 01:07:01  Related Party     AL J Corp                23152   \n",
       "3  04-APR-2022 01:07:01  Related Party     AL R Corp                23312   \n",
       "4  04-APR-2022 01:07:01  Related Party     ALLI Corp                 7530   \n",
       "\n",
       "  Transaction Number Transaction Date           Payment Term    Due Date  \\\n",
       "0       100210000438       21/12/2021              Immediate  21/12/2021   \n",
       "1       100220000052       01/02/2022  30 Days from Inv Date  03/03/2022   \n",
       "2       100220000143       24/03/2022  30 Days from Inv Date  23/04/2022   \n",
       "3       100220000001       04/01/2022  15 Days from Inv Date  19/01/2022   \n",
       "4       100220000105       03/03/2022       30 Days from EOM  30/04/2022   \n",
       "\n",
       "  Transaction Currency Local Amount Transaction Class  AGE USD Amount  \\\n",
       "0                  AED       -3,088       CREDIT NOTE  105     -3,088   \n",
       "1                  USD        2,000           INVOICE   33      2,000   \n",
       "2                  USD        2,000           INVOICE  -18      2,000   \n",
       "3                  AED        2,415           INVOICE   76      2,415   \n",
       "4                  AED        3,800           INVOICE  -25      3,800   \n",
       "\n",
       "  INV_CREATION_DATE  \n",
       "0  12/21/2021 12:53  \n",
       "1    2/1/2022 14:09  \n",
       "2   3/24/2022 17:46  \n",
       "3    1/5/2022 11:49  \n",
       "4    3/3/2022 22:30  "
      ]
     },
     "execution_count": 82,
     "metadata": {},
     "output_type": "execute_result"
    }
   ],
   "source": [
    "invData.head()"
   ]
  },
  {
   "cell_type": "code",
   "execution_count": 83,
   "id": "d4760a5d",
   "metadata": {},
   "outputs": [
    {
     "name": "stdout",
     "output_type": "stream",
     "text": [
      "<class 'pandas.core.frame.DataFrame'>\n",
      "RangeIndex: 88204 entries, 0 to 88203\n",
      "Data columns (total 14 columns):\n",
      " #   Column                Non-Null Count  Dtype  \n",
      "---  ------                --------------  -----  \n",
      " 0   AS_OF_DATE            88204 non-null  object \n",
      " 1   Customer Type         88204 non-null  object \n",
      " 2   Customer_Name         88204 non-null  object \n",
      " 3   Customer Account No   88201 non-null  float64\n",
      " 4   Transaction Number    88195 non-null  object \n",
      " 5   Transaction Date      88204 non-null  object \n",
      " 6   Payment Term          88204 non-null  object \n",
      " 7   Due Date              88204 non-null  object \n",
      " 8   Transaction Currency  88204 non-null  object \n",
      " 9   Local Amount          88204 non-null  object \n",
      " 10  Transaction Class     88204 non-null  object \n",
      " 11  AGE                   88204 non-null  int64  \n",
      " 12  USD Amount            88204 non-null  object \n",
      " 13  INV_CREATION_DATE     88204 non-null  object \n",
      "dtypes: float64(1), int64(1), object(12)\n",
      "memory usage: 9.4+ MB\n"
     ]
    }
   ],
   "source": [
    "invData.info()"
   ]
  },
  {
   "cell_type": "markdown",
   "id": "b42d1921",
   "metadata": {},
   "source": [
    "##### As we are aware If AGE is Greater than 0 it means it is already Delayed - hence no need to Predict "
   ]
  },
  {
   "cell_type": "code",
   "execution_count": 84,
   "id": "61dff90e",
   "metadata": {},
   "outputs": [],
   "source": [
    "invData = invData.loc[invData['AGE'] < 0 ]"
   ]
  },
  {
   "cell_type": "code",
   "execution_count": 85,
   "id": "8db14586",
   "metadata": {},
   "outputs": [
    {
     "data": {
      "text/plain": [
       "(28080, 14)"
      ]
     },
     "execution_count": 85,
     "metadata": {},
     "output_type": "execute_result"
    }
   ],
   "source": [
    "invData.shape"
   ]
  },
  {
   "cell_type": "markdown",
   "id": "18e155a3",
   "metadata": {},
   "source": [
    "##### Derive the PAY_TERM based on AGE + (DUE_DATE - AS_ON_DATE)"
   ]
  },
  {
   "cell_type": "code",
   "execution_count": 86,
   "id": "3032df76",
   "metadata": {},
   "outputs": [],
   "source": [
    "invData[\"AS_ON_DATE\"] = pd.to_datetime(\"2022-04-04\")"
   ]
  },
  {
   "cell_type": "code",
   "execution_count": 87,
   "id": "b5578837",
   "metadata": {},
   "outputs": [],
   "source": [
    "invData = invData.astype({\"AS_ON_DATE\" : 'datetime64[ns]' })"
   ]
  },
  {
   "cell_type": "code",
   "execution_count": 88,
   "id": "ab242968",
   "metadata": {},
   "outputs": [],
   "source": [
    "invData[\"DUE_DATE\"] = pd.to_datetime(invData[\"Due Date\"], dayfirst=True )  ##format='%d-%b-%Y'"
   ]
  },
  {
   "cell_type": "code",
   "execution_count": 89,
   "id": "6911eac2",
   "metadata": {},
   "outputs": [],
   "source": [
    "invData[\"PAY_TERM\"] = abs(invData['AGE']) + (( invData['DUE_DATE'] - invData['AS_ON_DATE']).dt.days)"
   ]
  },
  {
   "cell_type": "code",
   "execution_count": null,
   "id": "94dcd53b",
   "metadata": {},
   "outputs": [],
   "source": []
  },
  {
   "cell_type": "code",
   "execution_count": 90,
   "id": "349d0beb",
   "metadata": {},
   "outputs": [
    {
     "data": {
      "text/plain": [
       "count   28080\n",
       "mean       70\n",
       "std        43\n",
       "min         3\n",
       "25%        41\n",
       "50%        51\n",
       "75%       111\n",
       "max       719\n",
       "Name: PAY_TERM, dtype: float64"
      ]
     },
     "execution_count": 90,
     "metadata": {},
     "output_type": "execute_result"
    }
   ],
   "source": [
    "invData['PAY_TERM'].describe()"
   ]
  },
  {
   "cell_type": "markdown",
   "id": "a3b5e72a",
   "metadata": {},
   "source": [
    "##### USD Amount has Comma Seperator "
   ]
  },
  {
   "cell_type": "code",
   "execution_count": 91,
   "id": "118a16fe",
   "metadata": {},
   "outputs": [
    {
     "data": {
      "text/plain": [
       "count     28080\n",
       "unique    10851\n",
       "top          33\n",
       "freq         94\n",
       "Name: USD Amount, dtype: object"
      ]
     },
     "execution_count": 91,
     "metadata": {},
     "output_type": "execute_result"
    }
   ],
   "source": [
    "invData['USD Amount'].describe()"
   ]
  },
  {
   "cell_type": "code",
   "execution_count": 92,
   "id": "299efc04",
   "metadata": {},
   "outputs": [],
   "source": [
    "invData['USD Amount'] = invData['USD Amount'].str.replace(\",\",\"\")\n",
    "invData['USD Amount'] = invData['USD Amount'].astype(int)"
   ]
  },
  {
   "cell_type": "code",
   "execution_count": 93,
   "id": "a841274c",
   "metadata": {},
   "outputs": [
    {
     "data": {
      "text/plain": [
       "count     28080\n",
       "mean       9317\n",
       "std       56551\n",
       "min     -533227\n",
       "25%         575\n",
       "50%        1795\n",
       "75%        5835\n",
       "max     5978000\n",
       "Name: USD Amount, dtype: float64"
      ]
     },
     "execution_count": 93,
     "metadata": {},
     "output_type": "execute_result"
    }
   ],
   "source": [
    "invData['USD Amount'].describe()"
   ]
  },
  {
   "cell_type": "code",
   "execution_count": 94,
   "id": "fc66f818",
   "metadata": {},
   "outputs": [],
   "source": [
    "###USD Amount Cannot be Negative - Updating using abs\n",
    "invData['USD Amount'] = abs(invData['USD Amount'])"
   ]
  },
  {
   "cell_type": "code",
   "execution_count": 95,
   "id": "dd44d29f",
   "metadata": {},
   "outputs": [
    {
     "data": {
      "text/plain": [
       "count     28080\n",
       "mean       9429\n",
       "std       56532\n",
       "min           0\n",
       "25%         579\n",
       "50%        1799\n",
       "75%        5844\n",
       "max     5978000\n",
       "Name: USD Amount, dtype: float64"
      ]
     },
     "execution_count": 95,
     "metadata": {},
     "output_type": "execute_result"
    }
   ],
   "source": [
    "invData['USD Amount'].describe()"
   ]
  },
  {
   "cell_type": "code",
   "execution_count": null,
   "id": "b78d7fee",
   "metadata": {},
   "outputs": [],
   "source": []
  },
  {
   "cell_type": "code",
   "execution_count": 96,
   "id": "bb7221de",
   "metadata": {},
   "outputs": [],
   "source": [
    "#### RENAME COLUMN NAMES to Match with the Original Model Development \n",
    "invData = invData.rename(columns={'USD Amount': 'USD_AMT',\n",
    "                                  'Transaction Class' : 'INVOICE_CLASS',\n",
    "                                  'Customer_Name' : 'CUSTOMER_NAME',\n",
    "                                   'Transaction Currency' : 'CURRENCY_CODE'}) "
   ]
  },
  {
   "cell_type": "code",
   "execution_count": null,
   "id": "732c73f9",
   "metadata": {},
   "outputs": [],
   "source": []
  },
  {
   "cell_type": "code",
   "execution_count": 97,
   "id": "332d607c",
   "metadata": {},
   "outputs": [
    {
     "data": {
      "text/plain": [
       "INVOICE       27770\n",
       "DEBIT NOTE      285\n",
       "PAYMENT          25\n",
       "Name: INVOICE_CLASS, dtype: int64"
      ]
     },
     "execution_count": 97,
     "metadata": {},
     "output_type": "execute_result"
    }
   ],
   "source": [
    "invData['INVOICE_CLASS'].value_counts()"
   ]
  },
  {
   "cell_type": "code",
   "execution_count": 98,
   "id": "acd02f78",
   "metadata": {},
   "outputs": [],
   "source": [
    "### Updating INVOICE_CLASS VAlues in line with the Received payments\n",
    "invData['INVOICE_CLASS'] = invData['INVOICE_CLASS'].replace('INVOICE', 'INV')\n",
    "invData['INVOICE_CLASS'] = invData['INVOICE_CLASS'].replace('DEBIT NOTE', 'DM')\n",
    "invData['INVOICE_CLASS'] = invData['INVOICE_CLASS'].replace('PAYMENT', 'PMT')\n"
   ]
  },
  {
   "cell_type": "code",
   "execution_count": 99,
   "id": "8325da2e",
   "metadata": {},
   "outputs": [
    {
     "data": {
      "text/plain": [
       "INV    27770\n",
       "DM       285\n",
       "PMT       25\n",
       "Name: INVOICE_CLASS, dtype: int64"
      ]
     },
     "execution_count": 99,
     "metadata": {},
     "output_type": "execute_result"
    }
   ],
   "source": [
    "invData['INVOICE_CLASS'].value_counts()"
   ]
  },
  {
   "cell_type": "code",
   "execution_count": null,
   "id": "445db79f",
   "metadata": {},
   "outputs": [],
   "source": []
  },
  {
   "cell_type": "markdown",
   "id": "caff4f59",
   "metadata": {},
   "source": [
    "##### Recreating Customer Segments using Same Clustering as Receipt Data "
   ]
  },
  {
   "cell_type": "code",
   "execution_count": 100,
   "id": "6e5ec940",
   "metadata": {},
   "outputs": [],
   "source": [
    "invcsMeanPay = invData.groupby('CUSTOMER_NAME')['PAY_TERM'].mean()  ##Using PAY_TERM / PAY_DAYS"
   ]
  },
  {
   "cell_type": "code",
   "execution_count": 101,
   "id": "c48ad828",
   "metadata": {},
   "outputs": [],
   "source": [
    "invcsSDPay = invData.groupby('CUSTOMER_NAME')['PAY_TERM'].std()"
   ]
  },
  {
   "cell_type": "code",
   "execution_count": 102,
   "id": "73f2f5ab",
   "metadata": {},
   "outputs": [],
   "source": [
    "invcsDF = pd.merge(csMeanPay, csSDPay, on='CUSTOMER_NAME' , suffixes=('_MN', '_SD') ,how='inner' )"
   ]
  },
  {
   "cell_type": "code",
   "execution_count": 103,
   "id": "d0389864",
   "metadata": {},
   "outputs": [
    {
     "data": {
      "text/html": [
       "<div>\n",
       "<style scoped>\n",
       "    .dataframe tbody tr th:only-of-type {\n",
       "        vertical-align: middle;\n",
       "    }\n",
       "\n",
       "    .dataframe tbody tr th {\n",
       "        vertical-align: top;\n",
       "    }\n",
       "\n",
       "    .dataframe thead th {\n",
       "        text-align: right;\n",
       "    }\n",
       "</style>\n",
       "<table border=\"1\" class=\"dataframe\">\n",
       "  <thead>\n",
       "    <tr style=\"text-align: right;\">\n",
       "      <th></th>\n",
       "      <th>CUSTOMER_NAME</th>\n",
       "      <th>PAY_TERM_MN</th>\n",
       "      <th>PAY_TERM_SD</th>\n",
       "    </tr>\n",
       "  </thead>\n",
       "  <tbody>\n",
       "    <tr>\n",
       "      <th>0</th>\n",
       "      <td>3D D Corp</td>\n",
       "      <td>35</td>\n",
       "      <td>11</td>\n",
       "    </tr>\n",
       "    <tr>\n",
       "      <th>1</th>\n",
       "      <td>6TH  Corp</td>\n",
       "      <td>78</td>\n",
       "      <td>7</td>\n",
       "    </tr>\n",
       "    <tr>\n",
       "      <th>2</th>\n",
       "      <td>A3 D Corp</td>\n",
       "      <td>27</td>\n",
       "      <td>2</td>\n",
       "    </tr>\n",
       "    <tr>\n",
       "      <th>3</th>\n",
       "      <td>ABC  Corp</td>\n",
       "      <td>90</td>\n",
       "      <td>0</td>\n",
       "    </tr>\n",
       "    <tr>\n",
       "      <th>4</th>\n",
       "      <td>ABDU Corp</td>\n",
       "      <td>72</td>\n",
       "      <td>30</td>\n",
       "    </tr>\n",
       "    <tr>\n",
       "      <th>...</th>\n",
       "      <td>...</td>\n",
       "      <td>...</td>\n",
       "      <td>...</td>\n",
       "    </tr>\n",
       "    <tr>\n",
       "      <th>577</th>\n",
       "      <td>YOUS Corp</td>\n",
       "      <td>90</td>\n",
       "      <td>0</td>\n",
       "    </tr>\n",
       "    <tr>\n",
       "      <th>578</th>\n",
       "      <td>ZAHR Corp</td>\n",
       "      <td>96</td>\n",
       "      <td>18</td>\n",
       "    </tr>\n",
       "    <tr>\n",
       "      <th>579</th>\n",
       "      <td>ZAIN Corp</td>\n",
       "      <td>40</td>\n",
       "      <td>7</td>\n",
       "    </tr>\n",
       "    <tr>\n",
       "      <th>580</th>\n",
       "      <td>ZERO Corp</td>\n",
       "      <td>30</td>\n",
       "      <td>1</td>\n",
       "    </tr>\n",
       "    <tr>\n",
       "      <th>581</th>\n",
       "      <td>ZV F Corp</td>\n",
       "      <td>36</td>\n",
       "      <td>8</td>\n",
       "    </tr>\n",
       "  </tbody>\n",
       "</table>\n",
       "<p>582 rows × 3 columns</p>\n",
       "</div>"
      ],
      "text/plain": [
       "    CUSTOMER_NAME  PAY_TERM_MN  PAY_TERM_SD\n",
       "0       3D D Corp           35           11\n",
       "1       6TH  Corp           78            7\n",
       "2       A3 D Corp           27            2\n",
       "3       ABC  Corp           90            0\n",
       "4       ABDU Corp           72           30\n",
       "..            ...          ...          ...\n",
       "577     YOUS Corp           90            0\n",
       "578     ZAHR Corp           96           18\n",
       "579     ZAIN Corp           40            7\n",
       "580     ZERO Corp           30            1\n",
       "581     ZV F Corp           36            8\n",
       "\n",
       "[582 rows x 3 columns]"
      ]
     },
     "execution_count": 103,
     "metadata": {},
     "output_type": "execute_result"
    }
   ],
   "source": [
    "invcsDF.reset_index()"
   ]
  },
  {
   "cell_type": "code",
   "execution_count": 104,
   "id": "efc108b1",
   "metadata": {},
   "outputs": [],
   "source": [
    "invcsDF['PAY_TERM_SD'] = invcsDF['PAY_TERM_SD'].replace(np.nan,0)"
   ]
  },
  {
   "cell_type": "code",
   "execution_count": 105,
   "id": "06327665",
   "metadata": {},
   "outputs": [
    {
     "data": {
      "text/html": [
       "<div>\n",
       "<style scoped>\n",
       "    .dataframe tbody tr th:only-of-type {\n",
       "        vertical-align: middle;\n",
       "    }\n",
       "\n",
       "    .dataframe tbody tr th {\n",
       "        vertical-align: top;\n",
       "    }\n",
       "\n",
       "    .dataframe thead th {\n",
       "        text-align: right;\n",
       "    }\n",
       "</style>\n",
       "<table border=\"1\" class=\"dataframe\">\n",
       "  <thead>\n",
       "    <tr style=\"text-align: right;\">\n",
       "      <th></th>\n",
       "      <th>PAY_TERM_MN</th>\n",
       "      <th>PAY_TERM_SD</th>\n",
       "    </tr>\n",
       "    <tr>\n",
       "      <th>CUSTOMER_NAME</th>\n",
       "      <th></th>\n",
       "      <th></th>\n",
       "    </tr>\n",
       "  </thead>\n",
       "  <tbody>\n",
       "    <tr>\n",
       "      <th>3D D Corp</th>\n",
       "      <td>35</td>\n",
       "      <td>11</td>\n",
       "    </tr>\n",
       "    <tr>\n",
       "      <th>6TH  Corp</th>\n",
       "      <td>78</td>\n",
       "      <td>7</td>\n",
       "    </tr>\n",
       "    <tr>\n",
       "      <th>A3 D Corp</th>\n",
       "      <td>27</td>\n",
       "      <td>2</td>\n",
       "    </tr>\n",
       "    <tr>\n",
       "      <th>ABC  Corp</th>\n",
       "      <td>90</td>\n",
       "      <td>0</td>\n",
       "    </tr>\n",
       "    <tr>\n",
       "      <th>ABDU Corp</th>\n",
       "      <td>72</td>\n",
       "      <td>30</td>\n",
       "    </tr>\n",
       "  </tbody>\n",
       "</table>\n",
       "</div>"
      ],
      "text/plain": [
       "               PAY_TERM_MN  PAY_TERM_SD\n",
       "CUSTOMER_NAME                          \n",
       "3D D Corp               35           11\n",
       "6TH  Corp               78            7\n",
       "A3 D Corp               27            2\n",
       "ABC  Corp               90            0\n",
       "ABDU Corp               72           30"
      ]
     },
     "execution_count": 105,
     "metadata": {},
     "output_type": "execute_result"
    }
   ],
   "source": [
    "invcsDF.head()"
   ]
  },
  {
   "cell_type": "code",
   "execution_count": 106,
   "id": "3cefed2c",
   "metadata": {},
   "outputs": [],
   "source": [
    "invcsDF_for_scaling = invcsDF[['PAY_TERM_MN', 'PAY_TERM_SD']]"
   ]
  },
  {
   "cell_type": "code",
   "execution_count": 107,
   "id": "3a490972",
   "metadata": {},
   "outputs": [],
   "source": [
    "# fit_transform\n",
    "invcsDF_Scaled = csScaler.fit_transform(invcsDF_for_scaling)\n"
   ]
  },
  {
   "cell_type": "code",
   "execution_count": 108,
   "id": "e7ada16c",
   "metadata": {},
   "outputs": [
    {
     "data": {
      "text/html": [
       "<div>\n",
       "<style scoped>\n",
       "    .dataframe tbody tr th:only-of-type {\n",
       "        vertical-align: middle;\n",
       "    }\n",
       "\n",
       "    .dataframe tbody tr th {\n",
       "        vertical-align: top;\n",
       "    }\n",
       "\n",
       "    .dataframe thead th {\n",
       "        text-align: right;\n",
       "    }\n",
       "</style>\n",
       "<table border=\"1\" class=\"dataframe\">\n",
       "  <thead>\n",
       "    <tr style=\"text-align: right;\">\n",
       "      <th></th>\n",
       "      <th>CS_Mean</th>\n",
       "      <th>CS_STDEV</th>\n",
       "    </tr>\n",
       "  </thead>\n",
       "  <tbody>\n",
       "    <tr>\n",
       "      <th>0</th>\n",
       "      <td>-1</td>\n",
       "      <td>1</td>\n",
       "    </tr>\n",
       "    <tr>\n",
       "      <th>1</th>\n",
       "      <td>1</td>\n",
       "      <td>0</td>\n",
       "    </tr>\n",
       "    <tr>\n",
       "      <th>2</th>\n",
       "      <td>-1</td>\n",
       "      <td>-0</td>\n",
       "    </tr>\n",
       "    <tr>\n",
       "      <th>3</th>\n",
       "      <td>2</td>\n",
       "      <td>-1</td>\n",
       "    </tr>\n",
       "    <tr>\n",
       "      <th>4</th>\n",
       "      <td>1</td>\n",
       "      <td>3</td>\n",
       "    </tr>\n",
       "  </tbody>\n",
       "</table>\n",
       "</div>"
      ],
      "text/plain": [
       "   CS_Mean  CS_STDEV\n",
       "0       -1         1\n",
       "1        1         0\n",
       "2       -1        -0\n",
       "3        2        -1\n",
       "4        1         3"
      ]
     },
     "execution_count": 108,
     "metadata": {},
     "output_type": "execute_result"
    }
   ],
   "source": [
    "invcsDF_Scaled = pd.DataFrame(invcsDF_Scaled)\n",
    "invcsDF_Scaled.columns = ['CS_Mean', 'CS_STDEV']\n",
    "invcsDF_Scaled.head()"
   ]
  },
  {
   "cell_type": "code",
   "execution_count": 109,
   "id": "84058964",
   "metadata": {},
   "outputs": [
    {
     "name": "stdout",
     "output_type": "stream",
     "text": [
      "<class 'pandas.core.frame.DataFrame'>\n",
      "RangeIndex: 582 entries, 0 to 581\n",
      "Data columns (total 2 columns):\n",
      " #   Column    Non-Null Count  Dtype  \n",
      "---  ------    --------------  -----  \n",
      " 0   CS_Mean   582 non-null    float64\n",
      " 1   CS_STDEV  582 non-null    float64\n",
      "dtypes: float64(2)\n",
      "memory usage: 9.2 KB\n"
     ]
    }
   ],
   "source": [
    "invcsDF_Scaled.info()"
   ]
  },
  {
   "cell_type": "code",
   "execution_count": 110,
   "id": "862eeafc",
   "metadata": {},
   "outputs": [
    {
     "data": {
      "text/html": [
       "<style>#sk-container-id-4 {color: black;background-color: white;}#sk-container-id-4 pre{padding: 0;}#sk-container-id-4 div.sk-toggleable {background-color: white;}#sk-container-id-4 label.sk-toggleable__label {cursor: pointer;display: block;width: 100%;margin-bottom: 0;padding: 0.3em;box-sizing: border-box;text-align: center;}#sk-container-id-4 label.sk-toggleable__label-arrow:before {content: \"▸\";float: left;margin-right: 0.25em;color: #696969;}#sk-container-id-4 label.sk-toggleable__label-arrow:hover:before {color: black;}#sk-container-id-4 div.sk-estimator:hover label.sk-toggleable__label-arrow:before {color: black;}#sk-container-id-4 div.sk-toggleable__content {max-height: 0;max-width: 0;overflow: hidden;text-align: left;background-color: #f0f8ff;}#sk-container-id-4 div.sk-toggleable__content pre {margin: 0.2em;color: black;border-radius: 0.25em;background-color: #f0f8ff;}#sk-container-id-4 input.sk-toggleable__control:checked~div.sk-toggleable__content {max-height: 200px;max-width: 100%;overflow: auto;}#sk-container-id-4 input.sk-toggleable__control:checked~label.sk-toggleable__label-arrow:before {content: \"▾\";}#sk-container-id-4 div.sk-estimator input.sk-toggleable__control:checked~label.sk-toggleable__label {background-color: #d4ebff;}#sk-container-id-4 div.sk-label input.sk-toggleable__control:checked~label.sk-toggleable__label {background-color: #d4ebff;}#sk-container-id-4 input.sk-hidden--visually {border: 0;clip: rect(1px 1px 1px 1px);clip: rect(1px, 1px, 1px, 1px);height: 1px;margin: -1px;overflow: hidden;padding: 0;position: absolute;width: 1px;}#sk-container-id-4 div.sk-estimator {font-family: monospace;background-color: #f0f8ff;border: 1px dotted black;border-radius: 0.25em;box-sizing: border-box;margin-bottom: 0.5em;}#sk-container-id-4 div.sk-estimator:hover {background-color: #d4ebff;}#sk-container-id-4 div.sk-parallel-item::after {content: \"\";width: 100%;border-bottom: 1px solid gray;flex-grow: 1;}#sk-container-id-4 div.sk-label:hover label.sk-toggleable__label {background-color: #d4ebff;}#sk-container-id-4 div.sk-serial::before {content: \"\";position: absolute;border-left: 1px solid gray;box-sizing: border-box;top: 0;bottom: 0;left: 50%;z-index: 0;}#sk-container-id-4 div.sk-serial {display: flex;flex-direction: column;align-items: center;background-color: white;padding-right: 0.2em;padding-left: 0.2em;position: relative;}#sk-container-id-4 div.sk-item {position: relative;z-index: 1;}#sk-container-id-4 div.sk-parallel {display: flex;align-items: stretch;justify-content: center;background-color: white;position: relative;}#sk-container-id-4 div.sk-item::before, #sk-container-id-4 div.sk-parallel-item::before {content: \"\";position: absolute;border-left: 1px solid gray;box-sizing: border-box;top: 0;bottom: 0;left: 50%;z-index: -1;}#sk-container-id-4 div.sk-parallel-item {display: flex;flex-direction: column;z-index: 1;position: relative;background-color: white;}#sk-container-id-4 div.sk-parallel-item:first-child::after {align-self: flex-end;width: 50%;}#sk-container-id-4 div.sk-parallel-item:last-child::after {align-self: flex-start;width: 50%;}#sk-container-id-4 div.sk-parallel-item:only-child::after {width: 0;}#sk-container-id-4 div.sk-dashed-wrapped {border: 1px dashed gray;margin: 0 0.4em 0.5em 0.4em;box-sizing: border-box;padding-bottom: 0.4em;background-color: white;}#sk-container-id-4 div.sk-label label {font-family: monospace;font-weight: bold;display: inline-block;line-height: 1.2em;}#sk-container-id-4 div.sk-label-container {text-align: center;}#sk-container-id-4 div.sk-container {/* jupyter's `normalize.less` sets `[hidden] { display: none; }` but bootstrap.min.css set `[hidden] { display: none !important; }` so we also need the `!important` here to be able to override the default hidden behavior on the sphinx rendered scikit-learn.org. See: https://github.com/scikit-learn/scikit-learn/issues/21755 */display: inline-block !important;position: relative;}#sk-container-id-4 div.sk-text-repr-fallback {display: none;}</style><div id=\"sk-container-id-4\" class=\"sk-top-container\"><div class=\"sk-text-repr-fallback\"><pre>KMeans(max_iter=50, n_clusters=5)</pre><b>In a Jupyter environment, please rerun this cell to show the HTML representation or trust the notebook. <br />On GitHub, the HTML representation is unable to render, please try loading this page with nbviewer.org.</b></div><div class=\"sk-container\" hidden><div class=\"sk-item\"><div class=\"sk-estimator sk-toggleable\"><input class=\"sk-toggleable__control sk-hidden--visually\" id=\"sk-estimator-id-6\" type=\"checkbox\" checked><label for=\"sk-estimator-id-6\" class=\"sk-toggleable__label sk-toggleable__label-arrow\">KMeans</label><div class=\"sk-toggleable__content\"><pre>KMeans(max_iter=50, n_clusters=5)</pre></div></div></div></div></div>"
      ],
      "text/plain": [
       "KMeans(max_iter=50, n_clusters=5)"
      ]
     },
     "execution_count": 110,
     "metadata": {},
     "output_type": "execute_result"
    }
   ],
   "source": [
    "# final model with k=5 >> Same as Received payment \n",
    "kmeans = KMeans(n_clusters=5, max_iter=50)\n",
    "kmeans.fit(invcsDF_Scaled)"
   ]
  },
  {
   "cell_type": "code",
   "execution_count": 111,
   "id": "0c2f1b5a",
   "metadata": {},
   "outputs": [
    {
     "data": {
      "text/html": [
       "<div>\n",
       "<style scoped>\n",
       "    .dataframe tbody tr th:only-of-type {\n",
       "        vertical-align: middle;\n",
       "    }\n",
       "\n",
       "    .dataframe tbody tr th {\n",
       "        vertical-align: top;\n",
       "    }\n",
       "\n",
       "    .dataframe thead th {\n",
       "        text-align: right;\n",
       "    }\n",
       "</style>\n",
       "<table border=\"1\" class=\"dataframe\">\n",
       "  <thead>\n",
       "    <tr style=\"text-align: right;\">\n",
       "      <th></th>\n",
       "      <th>PAY_TERM_MN</th>\n",
       "      <th>PAY_TERM_SD</th>\n",
       "      <th>cluster_id</th>\n",
       "    </tr>\n",
       "    <tr>\n",
       "      <th>CUSTOMER_NAME</th>\n",
       "      <th></th>\n",
       "      <th></th>\n",
       "      <th></th>\n",
       "    </tr>\n",
       "  </thead>\n",
       "  <tbody>\n",
       "    <tr>\n",
       "      <th>3D D Corp</th>\n",
       "      <td>35</td>\n",
       "      <td>11</td>\n",
       "      <td>2</td>\n",
       "    </tr>\n",
       "    <tr>\n",
       "      <th>6TH  Corp</th>\n",
       "      <td>78</td>\n",
       "      <td>7</td>\n",
       "      <td>3</td>\n",
       "    </tr>\n",
       "    <tr>\n",
       "      <th>A3 D Corp</th>\n",
       "      <td>27</td>\n",
       "      <td>2</td>\n",
       "      <td>1</td>\n",
       "    </tr>\n",
       "    <tr>\n",
       "      <th>ABC  Corp</th>\n",
       "      <td>90</td>\n",
       "      <td>0</td>\n",
       "      <td>3</td>\n",
       "    </tr>\n",
       "    <tr>\n",
       "      <th>ABDU Corp</th>\n",
       "      <td>72</td>\n",
       "      <td>30</td>\n",
       "      <td>0</td>\n",
       "    </tr>\n",
       "  </tbody>\n",
       "</table>\n",
       "</div>"
      ],
      "text/plain": [
       "               PAY_TERM_MN  PAY_TERM_SD  cluster_id\n",
       "CUSTOMER_NAME                                      \n",
       "3D D Corp               35           11           2\n",
       "6TH  Corp               78            7           3\n",
       "A3 D Corp               27            2           1\n",
       "ABC  Corp               90            0           3\n",
       "ABDU Corp               72           30           0"
      ]
     },
     "execution_count": 111,
     "metadata": {},
     "output_type": "execute_result"
    }
   ],
   "source": [
    "# assign the label\n",
    "invcsDF['cluster_id'] = kmeans.labels_\n",
    "invcsDF.head()"
   ]
  },
  {
   "cell_type": "code",
   "execution_count": 112,
   "id": "a2d4e576",
   "metadata": {},
   "outputs": [],
   "source": [
    "invData = invData.merge(invcsDF, how='left' , on='CUSTOMER_NAME' )"
   ]
  },
  {
   "cell_type": "code",
   "execution_count": 113,
   "id": "6b9d6a57",
   "metadata": {},
   "outputs": [],
   "source": [
    "invData[\"CUST_SEGMENT\"] = reData[\"cluster_id\"].apply(lambda x: cSegments(x))  ### USe the same Customer Segment "
   ]
  },
  {
   "cell_type": "code",
   "execution_count": 114,
   "id": "b70433d9",
   "metadata": {},
   "outputs": [],
   "source": [
    "### Lets Retain only the Required Columns\n",
    "reqRetailCols = ['CUSTOMER_NAME','CURRENCY_CODE','USD_AMT','INVOICE_CLASS','CUST_SEGMENT', 'PAY_TERM']"
   ]
  },
  {
   "cell_type": "code",
   "execution_count": 115,
   "id": "ae3aa92d",
   "metadata": {},
   "outputs": [],
   "source": [
    "invDF = invData[reqRetailCols]"
   ]
  },
  {
   "cell_type": "code",
   "execution_count": 116,
   "id": "77368fc5",
   "metadata": {},
   "outputs": [],
   "source": [
    "### Create Dummy Variables \n",
    "inv_dum_DF = pd.get_dummies(invDF[['CURRENCY_CODE','INVOICE_CLASS','CUST_SEGMENT']]) "
   ]
  },
  {
   "cell_type": "code",
   "execution_count": 117,
   "id": "a3734197",
   "metadata": {},
   "outputs": [
    {
     "data": {
      "text/html": [
       "<div>\n",
       "<style scoped>\n",
       "    .dataframe tbody tr th:only-of-type {\n",
       "        vertical-align: middle;\n",
       "    }\n",
       "\n",
       "    .dataframe tbody tr th {\n",
       "        vertical-align: top;\n",
       "    }\n",
       "\n",
       "    .dataframe thead th {\n",
       "        text-align: right;\n",
       "    }\n",
       "</style>\n",
       "<table border=\"1\" class=\"dataframe\">\n",
       "  <thead>\n",
       "    <tr style=\"text-align: right;\">\n",
       "      <th></th>\n",
       "      <th>CUSTOMER_NAME</th>\n",
       "      <th>CURRENCY_CODE</th>\n",
       "      <th>USD_AMT</th>\n",
       "      <th>INVOICE_CLASS</th>\n",
       "      <th>CUST_SEGMENT</th>\n",
       "      <th>PAY_TERM</th>\n",
       "      <th>CURRENCY_CODE_AED</th>\n",
       "      <th>CURRENCY_CODE_BHD</th>\n",
       "      <th>CURRENCY_CODE_EGP</th>\n",
       "      <th>CURRENCY_CODE_EUR</th>\n",
       "      <th>...</th>\n",
       "      <th>CURRENCY_CODE_USD</th>\n",
       "      <th>CURRENCY_CODE_ZAR</th>\n",
       "      <th>INVOICE_CLASS_DM</th>\n",
       "      <th>INVOICE_CLASS_INV</th>\n",
       "      <th>INVOICE_CLASS_PMT</th>\n",
       "      <th>CUST_SEGMENT_A</th>\n",
       "      <th>CUST_SEGMENT_B</th>\n",
       "      <th>CUST_SEGMENT_C</th>\n",
       "      <th>CUST_SEGMENT_D</th>\n",
       "      <th>CUST_SEGMENT_E</th>\n",
       "    </tr>\n",
       "  </thead>\n",
       "  <tbody>\n",
       "    <tr>\n",
       "      <th>0</th>\n",
       "      <td>AL J Corp</td>\n",
       "      <td>USD</td>\n",
       "      <td>2000</td>\n",
       "      <td>INV</td>\n",
       "      <td>B</td>\n",
       "      <td>37</td>\n",
       "      <td>0</td>\n",
       "      <td>0</td>\n",
       "      <td>0</td>\n",
       "      <td>0</td>\n",
       "      <td>...</td>\n",
       "      <td>1</td>\n",
       "      <td>0</td>\n",
       "      <td>0</td>\n",
       "      <td>1</td>\n",
       "      <td>0</td>\n",
       "      <td>0</td>\n",
       "      <td>1</td>\n",
       "      <td>0</td>\n",
       "      <td>0</td>\n",
       "      <td>0</td>\n",
       "    </tr>\n",
       "    <tr>\n",
       "      <th>1</th>\n",
       "      <td>ALLI Corp</td>\n",
       "      <td>AED</td>\n",
       "      <td>3800</td>\n",
       "      <td>INV</td>\n",
       "      <td>E</td>\n",
       "      <td>51</td>\n",
       "      <td>1</td>\n",
       "      <td>0</td>\n",
       "      <td>0</td>\n",
       "      <td>0</td>\n",
       "      <td>...</td>\n",
       "      <td>0</td>\n",
       "      <td>0</td>\n",
       "      <td>0</td>\n",
       "      <td>1</td>\n",
       "      <td>0</td>\n",
       "      <td>0</td>\n",
       "      <td>0</td>\n",
       "      <td>0</td>\n",
       "      <td>0</td>\n",
       "      <td>1</td>\n",
       "    </tr>\n",
       "    <tr>\n",
       "      <th>2</th>\n",
       "      <td>ALLI Corp</td>\n",
       "      <td>AED</td>\n",
       "      <td>1264</td>\n",
       "      <td>INV</td>\n",
       "      <td>E</td>\n",
       "      <td>51</td>\n",
       "      <td>1</td>\n",
       "      <td>0</td>\n",
       "      <td>0</td>\n",
       "      <td>0</td>\n",
       "      <td>...</td>\n",
       "      <td>0</td>\n",
       "      <td>0</td>\n",
       "      <td>0</td>\n",
       "      <td>1</td>\n",
       "      <td>0</td>\n",
       "      <td>0</td>\n",
       "      <td>0</td>\n",
       "      <td>0</td>\n",
       "      <td>0</td>\n",
       "      <td>1</td>\n",
       "    </tr>\n",
       "    <tr>\n",
       "      <th>3</th>\n",
       "      <td>ALLI Corp</td>\n",
       "      <td>AED</td>\n",
       "      <td>25858</td>\n",
       "      <td>INV</td>\n",
       "      <td>E</td>\n",
       "      <td>51</td>\n",
       "      <td>1</td>\n",
       "      <td>0</td>\n",
       "      <td>0</td>\n",
       "      <td>0</td>\n",
       "      <td>...</td>\n",
       "      <td>0</td>\n",
       "      <td>0</td>\n",
       "      <td>0</td>\n",
       "      <td>1</td>\n",
       "      <td>0</td>\n",
       "      <td>0</td>\n",
       "      <td>0</td>\n",
       "      <td>0</td>\n",
       "      <td>0</td>\n",
       "      <td>1</td>\n",
       "    </tr>\n",
       "    <tr>\n",
       "      <th>4</th>\n",
       "      <td>ALLI Corp</td>\n",
       "      <td>AED</td>\n",
       "      <td>39873</td>\n",
       "      <td>INV</td>\n",
       "      <td>E</td>\n",
       "      <td>51</td>\n",
       "      <td>1</td>\n",
       "      <td>0</td>\n",
       "      <td>0</td>\n",
       "      <td>0</td>\n",
       "      <td>...</td>\n",
       "      <td>0</td>\n",
       "      <td>0</td>\n",
       "      <td>0</td>\n",
       "      <td>1</td>\n",
       "      <td>0</td>\n",
       "      <td>0</td>\n",
       "      <td>0</td>\n",
       "      <td>0</td>\n",
       "      <td>0</td>\n",
       "      <td>1</td>\n",
       "    </tr>\n",
       "  </tbody>\n",
       "</table>\n",
       "<p>5 rows × 28 columns</p>\n",
       "</div>"
      ],
      "text/plain": [
       "  CUSTOMER_NAME CURRENCY_CODE  USD_AMT INVOICE_CLASS CUST_SEGMENT  PAY_TERM  \\\n",
       "0     AL J Corp           USD     2000           INV            B        37   \n",
       "1     ALLI Corp           AED     3800           INV            E        51   \n",
       "2     ALLI Corp           AED     1264           INV            E        51   \n",
       "3     ALLI Corp           AED    25858           INV            E        51   \n",
       "4     ALLI Corp           AED    39873           INV            E        51   \n",
       "\n",
       "   CURRENCY_CODE_AED  CURRENCY_CODE_BHD  CURRENCY_CODE_EGP  CURRENCY_CODE_EUR  \\\n",
       "0                  0                  0                  0                  0   \n",
       "1                  1                  0                  0                  0   \n",
       "2                  1                  0                  0                  0   \n",
       "3                  1                  0                  0                  0   \n",
       "4                  1                  0                  0                  0   \n",
       "\n",
       "   ...  CURRENCY_CODE_USD  CURRENCY_CODE_ZAR  INVOICE_CLASS_DM  \\\n",
       "0  ...                  1                  0                 0   \n",
       "1  ...                  0                  0                 0   \n",
       "2  ...                  0                  0                 0   \n",
       "3  ...                  0                  0                 0   \n",
       "4  ...                  0                  0                 0   \n",
       "\n",
       "   INVOICE_CLASS_INV  INVOICE_CLASS_PMT  CUST_SEGMENT_A  CUST_SEGMENT_B  \\\n",
       "0                  1                  0               0               1   \n",
       "1                  1                  0               0               0   \n",
       "2                  1                  0               0               0   \n",
       "3                  1                  0               0               0   \n",
       "4                  1                  0               0               0   \n",
       "\n",
       "   CUST_SEGMENT_C  CUST_SEGMENT_D  CUST_SEGMENT_E  \n",
       "0               0               0               0  \n",
       "1               0               0               1  \n",
       "2               0               0               1  \n",
       "3               0               0               1  \n",
       "4               0               0               1  \n",
       "\n",
       "[5 rows x 28 columns]"
      ]
     },
     "execution_count": 117,
     "metadata": {},
     "output_type": "execute_result"
    }
   ],
   "source": [
    "## Merging with the Original DataFrame \n",
    "invDF=pd.concat([invDF, inv_dum_DF], axis=1)\n",
    "invDF.head()"
   ]
  },
  {
   "cell_type": "code",
   "execution_count": 118,
   "id": "7fad9c85",
   "metadata": {},
   "outputs": [],
   "source": [
    "inv_XDF = invDF.drop(['CUSTOMER_NAME','CURRENCY_CODE','INVOICE_CLASS','CUST_SEGMENT'],axis=1)"
   ]
  },
  {
   "cell_type": "code",
   "execution_count": null,
   "id": "658c0094",
   "metadata": {},
   "outputs": [],
   "source": []
  },
  {
   "cell_type": "code",
   "execution_count": 119,
   "id": "e5d4a054",
   "metadata": {},
   "outputs": [
    {
     "data": {
      "text/html": [
       "<div>\n",
       "<style scoped>\n",
       "    .dataframe tbody tr th:only-of-type {\n",
       "        vertical-align: middle;\n",
       "    }\n",
       "\n",
       "    .dataframe tbody tr th {\n",
       "        vertical-align: top;\n",
       "    }\n",
       "\n",
       "    .dataframe thead th {\n",
       "        text-align: right;\n",
       "    }\n",
       "</style>\n",
       "<table border=\"1\" class=\"dataframe\">\n",
       "  <thead>\n",
       "    <tr style=\"text-align: right;\">\n",
       "      <th></th>\n",
       "      <th>USD_AMT</th>\n",
       "      <th>PAY_TERM</th>\n",
       "      <th>CURRENCY_CODE_AED</th>\n",
       "      <th>CURRENCY_CODE_BHD</th>\n",
       "      <th>CURRENCY_CODE_EGP</th>\n",
       "      <th>CURRENCY_CODE_EUR</th>\n",
       "      <th>CURRENCY_CODE_GBP</th>\n",
       "      <th>CURRENCY_CODE_HKD</th>\n",
       "      <th>CURRENCY_CODE_JOD</th>\n",
       "      <th>CURRENCY_CODE_KWD</th>\n",
       "      <th>...</th>\n",
       "      <th>CURRENCY_CODE_USD</th>\n",
       "      <th>CURRENCY_CODE_ZAR</th>\n",
       "      <th>INVOICE_CLASS_DM</th>\n",
       "      <th>INVOICE_CLASS_INV</th>\n",
       "      <th>INVOICE_CLASS_PMT</th>\n",
       "      <th>CUST_SEGMENT_A</th>\n",
       "      <th>CUST_SEGMENT_B</th>\n",
       "      <th>CUST_SEGMENT_C</th>\n",
       "      <th>CUST_SEGMENT_D</th>\n",
       "      <th>CUST_SEGMENT_E</th>\n",
       "    </tr>\n",
       "  </thead>\n",
       "  <tbody>\n",
       "    <tr>\n",
       "      <th>0</th>\n",
       "      <td>2000</td>\n",
       "      <td>37</td>\n",
       "      <td>0</td>\n",
       "      <td>0</td>\n",
       "      <td>0</td>\n",
       "      <td>0</td>\n",
       "      <td>0</td>\n",
       "      <td>0</td>\n",
       "      <td>0</td>\n",
       "      <td>0</td>\n",
       "      <td>...</td>\n",
       "      <td>1</td>\n",
       "      <td>0</td>\n",
       "      <td>0</td>\n",
       "      <td>1</td>\n",
       "      <td>0</td>\n",
       "      <td>0</td>\n",
       "      <td>1</td>\n",
       "      <td>0</td>\n",
       "      <td>0</td>\n",
       "      <td>0</td>\n",
       "    </tr>\n",
       "    <tr>\n",
       "      <th>1</th>\n",
       "      <td>3800</td>\n",
       "      <td>51</td>\n",
       "      <td>1</td>\n",
       "      <td>0</td>\n",
       "      <td>0</td>\n",
       "      <td>0</td>\n",
       "      <td>0</td>\n",
       "      <td>0</td>\n",
       "      <td>0</td>\n",
       "      <td>0</td>\n",
       "      <td>...</td>\n",
       "      <td>0</td>\n",
       "      <td>0</td>\n",
       "      <td>0</td>\n",
       "      <td>1</td>\n",
       "      <td>0</td>\n",
       "      <td>0</td>\n",
       "      <td>0</td>\n",
       "      <td>0</td>\n",
       "      <td>0</td>\n",
       "      <td>1</td>\n",
       "    </tr>\n",
       "    <tr>\n",
       "      <th>2</th>\n",
       "      <td>1264</td>\n",
       "      <td>51</td>\n",
       "      <td>1</td>\n",
       "      <td>0</td>\n",
       "      <td>0</td>\n",
       "      <td>0</td>\n",
       "      <td>0</td>\n",
       "      <td>0</td>\n",
       "      <td>0</td>\n",
       "      <td>0</td>\n",
       "      <td>...</td>\n",
       "      <td>0</td>\n",
       "      <td>0</td>\n",
       "      <td>0</td>\n",
       "      <td>1</td>\n",
       "      <td>0</td>\n",
       "      <td>0</td>\n",
       "      <td>0</td>\n",
       "      <td>0</td>\n",
       "      <td>0</td>\n",
       "      <td>1</td>\n",
       "    </tr>\n",
       "    <tr>\n",
       "      <th>3</th>\n",
       "      <td>25858</td>\n",
       "      <td>51</td>\n",
       "      <td>1</td>\n",
       "      <td>0</td>\n",
       "      <td>0</td>\n",
       "      <td>0</td>\n",
       "      <td>0</td>\n",
       "      <td>0</td>\n",
       "      <td>0</td>\n",
       "      <td>0</td>\n",
       "      <td>...</td>\n",
       "      <td>0</td>\n",
       "      <td>0</td>\n",
       "      <td>0</td>\n",
       "      <td>1</td>\n",
       "      <td>0</td>\n",
       "      <td>0</td>\n",
       "      <td>0</td>\n",
       "      <td>0</td>\n",
       "      <td>0</td>\n",
       "      <td>1</td>\n",
       "    </tr>\n",
       "    <tr>\n",
       "      <th>4</th>\n",
       "      <td>39873</td>\n",
       "      <td>51</td>\n",
       "      <td>1</td>\n",
       "      <td>0</td>\n",
       "      <td>0</td>\n",
       "      <td>0</td>\n",
       "      <td>0</td>\n",
       "      <td>0</td>\n",
       "      <td>0</td>\n",
       "      <td>0</td>\n",
       "      <td>...</td>\n",
       "      <td>0</td>\n",
       "      <td>0</td>\n",
       "      <td>0</td>\n",
       "      <td>1</td>\n",
       "      <td>0</td>\n",
       "      <td>0</td>\n",
       "      <td>0</td>\n",
       "      <td>0</td>\n",
       "      <td>0</td>\n",
       "      <td>1</td>\n",
       "    </tr>\n",
       "  </tbody>\n",
       "</table>\n",
       "<p>5 rows × 24 columns</p>\n",
       "</div>"
      ],
      "text/plain": [
       "   USD_AMT  PAY_TERM  CURRENCY_CODE_AED  CURRENCY_CODE_BHD  CURRENCY_CODE_EGP  \\\n",
       "0     2000        37                  0                  0                  0   \n",
       "1     3800        51                  1                  0                  0   \n",
       "2     1264        51                  1                  0                  0   \n",
       "3    25858        51                  1                  0                  0   \n",
       "4    39873        51                  1                  0                  0   \n",
       "\n",
       "   CURRENCY_CODE_EUR  CURRENCY_CODE_GBP  CURRENCY_CODE_HKD  CURRENCY_CODE_JOD  \\\n",
       "0                  0                  0                  0                  0   \n",
       "1                  0                  0                  0                  0   \n",
       "2                  0                  0                  0                  0   \n",
       "3                  0                  0                  0                  0   \n",
       "4                  0                  0                  0                  0   \n",
       "\n",
       "   CURRENCY_CODE_KWD  ...  CURRENCY_CODE_USD  CURRENCY_CODE_ZAR  \\\n",
       "0                  0  ...                  1                  0   \n",
       "1                  0  ...                  0                  0   \n",
       "2                  0  ...                  0                  0   \n",
       "3                  0  ...                  0                  0   \n",
       "4                  0  ...                  0                  0   \n",
       "\n",
       "   INVOICE_CLASS_DM  INVOICE_CLASS_INV  INVOICE_CLASS_PMT  CUST_SEGMENT_A  \\\n",
       "0                 0                  1                  0               0   \n",
       "1                 0                  1                  0               0   \n",
       "2                 0                  1                  0               0   \n",
       "3                 0                  1                  0               0   \n",
       "4                 0                  1                  0               0   \n",
       "\n",
       "   CUST_SEGMENT_B  CUST_SEGMENT_C  CUST_SEGMENT_D  CUST_SEGMENT_E  \n",
       "0               1               0               0               0  \n",
       "1               0               0               0               1  \n",
       "2               0               0               0               1  \n",
       "3               0               0               0               1  \n",
       "4               0               0               0               1  \n",
       "\n",
       "[5 rows x 24 columns]"
      ]
     },
     "execution_count": 119,
     "metadata": {},
     "output_type": "execute_result"
    }
   ],
   "source": [
    "inv_XDF.head()"
   ]
  },
  {
   "cell_type": "code",
   "execution_count": 120,
   "id": "17862bde",
   "metadata": {},
   "outputs": [],
   "source": [
    "### The Same Subset of Columns as during Model Training \n",
    "inv_XDF = inv_XDF[X_train.columns]"
   ]
  },
  {
   "cell_type": "code",
   "execution_count": 121,
   "id": "11032e19",
   "metadata": {},
   "outputs": [
    {
     "data": {
      "text/plain": [
       "(28080, 14)"
      ]
     },
     "execution_count": 121,
     "metadata": {},
     "output_type": "execute_result"
    }
   ],
   "source": [
    "inv_XDF.shape"
   ]
  },
  {
   "cell_type": "markdown",
   "id": "8dcc93f9",
   "metadata": {},
   "source": [
    "##### Predicting on the Invoice Data "
   ]
  },
  {
   "cell_type": "code",
   "execution_count": 122,
   "id": "7ac66713",
   "metadata": {},
   "outputs": [],
   "source": [
    "inv_Pred = rf_best.predict(inv_XDF)"
   ]
  },
  {
   "cell_type": "code",
   "execution_count": 123,
   "id": "d68bc648",
   "metadata": {},
   "outputs": [
    {
     "data": {
      "text/plain": [
       "array([0, 0, 0, ..., 0, 0, 0], dtype=int64)"
      ]
     },
     "execution_count": 123,
     "metadata": {},
     "output_type": "execute_result"
    }
   ],
   "source": [
    "inv_Pred"
   ]
  },
  {
   "cell_type": "code",
   "execution_count": 124,
   "id": "ce8ef3c7",
   "metadata": {},
   "outputs": [],
   "source": [
    "invData['PREDICTION'] = inv_Pred"
   ]
  },
  {
   "cell_type": "code",
   "execution_count": 129,
   "id": "e55c2c09",
   "metadata": {},
   "outputs": [
    {
     "data": {
      "text/plain": [
       "0    17733\n",
       "1    10347\n",
       "Name: PREDICTION, dtype: int64"
      ]
     },
     "execution_count": 129,
     "metadata": {},
     "output_type": "execute_result"
    }
   ],
   "source": [
    "invData.PREDICTION.value_counts()"
   ]
  },
  {
   "cell_type": "code",
   "execution_count": 126,
   "id": "2d95896c",
   "metadata": {},
   "outputs": [],
   "source": [
    "delay_customers = invData[invData['PREDICTION'] == 1]"
   ]
  },
  {
   "cell_type": "code",
   "execution_count": 127,
   "id": "b802df78",
   "metadata": {},
   "outputs": [
    {
     "data": {
      "text/plain": [
       "226"
      ]
     },
     "execution_count": 127,
     "metadata": {},
     "output_type": "execute_result"
    }
   ],
   "source": [
    "delay_customers['CUSTOMER_NAME'].nunique() "
   ]
  },
  {
   "cell_type": "code",
   "execution_count": 128,
   "id": "834a9544",
   "metadata": {},
   "outputs": [
    {
     "data": {
      "text/plain": [
       "495"
      ]
     },
     "execution_count": 128,
     "metadata": {},
     "output_type": "execute_result"
    }
   ],
   "source": [
    "invData['CUSTOMER_NAME'].nunique()"
   ]
  },
  {
   "cell_type": "markdown",
   "id": "12daf073",
   "metadata": {},
   "source": [
    "### Over 200 of 495 Customers are Predicted to Delay Payment "
   ]
  },
  {
   "cell_type": "code",
   "execution_count": null,
   "id": "8a0bb0f0",
   "metadata": {},
   "outputs": [],
   "source": []
  }
 ],
 "metadata": {
  "kernelspec": {
   "display_name": "Python 3 (ipykernel)",
   "language": "python",
   "name": "python3"
  },
  "language_info": {
   "codemirror_mode": {
    "name": "ipython",
    "version": 3
   },
   "file_extension": ".py",
   "mimetype": "text/x-python",
   "name": "python",
   "nbconvert_exporter": "python",
   "pygments_lexer": "ipython3",
   "version": "3.9.12"
  }
 },
 "nbformat": 4,
 "nbformat_minor": 5
}
